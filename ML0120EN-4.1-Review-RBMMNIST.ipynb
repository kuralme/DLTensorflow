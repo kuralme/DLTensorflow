{
 "cells": [
  {
   "cell_type": "markdown",
   "metadata": {},
   "source": [
    "<a href=\"https://www.skills.network/?utm_medium=Exinfluencer&utm_source=Exinfluencer&utm_content=000026UJ&utm_term=10006555&utm_id=NA-SkillsNetwork-Channel-SkillsNetworkCoursesIBMDeveloperSkillsNetworkDL0120ENSkillsNetwork20629446-2021-01-01\"><img src=\"https://cf-courses-data.s3.us.cloud-object-storage.appdomain.cloud/IBM-DL0120ENedX/labs/Template%20for%20Instructional%20Hands-on%20Labs/images/IDSNlogo.png\" width=\"400px\" align=\"center\"></a>\n",
    "\n",
    "<h1 align=\"center\"><font size=\"5\">RESTRICTED BOLTZMANN MACHINES</font></h1>\n"
   ]
  },
  {
   "cell_type": "markdown",
   "metadata": {},
   "source": [
    "<h3>Introduction</h3>\n",
    "<b>Restricted Boltzmann Machine (RBM):</b>  RBMs are shallow neural nets that learn to reconstruct data by themselves in an unsupervised fashion.  \n",
    "\n",
    "<h4>Why are RBMs important?</h4>\n",
    "An RBM are a basic form of autoencoder.  It can automatically extract <b>meaningful</b> features from a given input.\n",
    "\n",
    "<h4>How does it work?</h4>\n",
    "RBM is a 2 layer neural network. Simply, RBM takes the inputs and translates those into a set of binary values that represents them in the hidden layer. Then, these numbers can be translated back to reconstruct the inputs. Through several forward and backward passes, the RBM will be trained, and a trained RBM can reveal which features are the most important ones when detecting patterns.   \n",
    "\n",
    "<h4>What are the applications of an RBM?</h4>\n",
    "RBM is useful for <a href='http://www.cs.utoronto.ca/~hinton/absps/netflixICML.pdf?utm_medium=Exinfluencer&utm_source=Exinfluencer&utm_content=000026UJ&utm_term=10006555&utm_id=NA-SkillsNetwork-Channel-SkillsNetworkCoursesIBMDeveloperSkillsNetworkDL0120ENSkillsNetwork20629446-2021-01-01'>  Collaborative Filtering</a>, dimensionality reduction, classification, regression, feature learning, topic modeling and even <b>Deep Belief Networks</b>.\n",
    "\n",
    "<h4>Is RBM a generative or Discriminative model?</h4>\n",
    "RBM is a generative model. Let me explain it by first, see what is different between discriminative and generative models: \n",
    "\n",
    "<b>Discriminative:</b> Consider a classification problem where we want to learn to distinguish between Sedan cars (y = 1) and SUV cars (y = 0), based on some features of cars. Given a training set, an algorithm like logistic regression tries to find a straight line, or <i>decision boundary</i>, that separates the suv and sedan.\n",
    "\n",
    "<b>Generative:</b> looking at cars, we can build a model of what Sedan cars look like. Then, looking at SUVs, we can build a separate model of what SUV cars look like. Finally, to classify a new car, we can match the new car against the Sedan model, and match it against the SUV model, to see whether the new car looks more like the SUV or Sedan.\n",
    "\n",
    "Generative Models specify a probability distribution over a dataset of input vectors. We can carry out both supervised and unsupervised tasks with generative models:\n",
    "\n",
    "<ul>\n",
    "    <li>In an unsupervised task, we try to form a model for $P(x)$, where $P$ is the probability given $x$ as an input vector.</li>\n",
    "    <li>In the supervised task, we first form a model for $P(x|y)$, where $P$ is the probability of $x$ given $y$(the label for $x$). For example, if $y = 0$ indicates that a car is an SUV, and $y = 1$ indicates that a car is a sedan, then $p(x|y = 0)$ models the distribution of SUV features, and $p(x|y = 1)$ models the distribution of sedan features. If we manage to find $P(x|y)$ and $P(y)$, then we can use <b>Bayes rule</b> to estimate $P(y|x)$, because:   \n",
    "        $$p(y|x) = \\frac{p(x|y)p(y)}{p(x)}$$</li>\n",
    "</ul>\n",
    "Now the question is, can we build a generative model, and then use it to create synthetic data by directly sampling from the modeled probability distributions? Lets see. \n"
   ]
  },
  {
   "cell_type": "markdown",
   "metadata": {},
   "source": [
    "<h2>Table of Contents</h2>\n",
    "<ol>\n",
    "    <li><a href=\"https://#ref1\">Initialization</a></li>\n",
    "    <li><a href=\"https://#ref2\">RBM layers</a></li>\n",
    "    <li><a href=\"https://#ref3\">What RBM can do after training?</a></li>\n",
    "    <li><a href=\"https://#ref4\">How to train the model?</a></li>\n",
    "    <li><a href=\"https://#ref5\">Learned features</a></li>\n",
    "</ol>\n",
    "<p></p>\n",
    "</div>\n",
    "<br>\n",
    "\n",
    "<hr>\n"
   ]
  },
  {
   "cell_type": "markdown",
   "metadata": {},
   "source": [
    "<a id=\"ref1\"></a>\n",
    "\n",
    "<h3>Initialization</h3>\n",
    "\n",
    "First, we have to load the utility file which contains different utility functions that are not connected\n",
    "in any way to the networks presented in the tutorials, but rather help in\n",
    "processing the outputs into a more understandable way.\n"
   ]
  },
  {
   "cell_type": "code",
   "execution_count": 1,
   "metadata": {},
   "outputs": [],
   "source": [
    "import urllib.request\n",
    "with urllib.request.urlopen(\"https://cf-courses-data.s3.us.cloud-object-storage.appdomain.cloud/IBMDeveloperSkillsNetwork-DL0120EN-SkillsNetwork/labs/Week4/data/utils.py\") as url:\n",
    "    response = url.read()\n",
    "target = open('utils.py', 'w')\n",
    "target.write(response.decode('utf-8'))\n",
    "target.close()"
   ]
  },
  {
   "cell_type": "markdown",
   "metadata": {},
   "source": [
    "<h2>Installing TensorFlow </h2>\n",
    "\n",
    "We will installing TensorFlow version 2.2.0 and its required prerequistes.  Also installing pillow\\...\n"
   ]
  },
  {
   "cell_type": "code",
   "execution_count": 2,
   "metadata": {},
   "outputs": [
    {
     "name": "stdout",
     "output_type": "stream",
     "text": [
      "Collecting grpcio==1.24.3\n",
      "\u001b[?25l  Downloading https://files.pythonhosted.org/packages/30/54/c9810421e41ec0bca2228c6f06b1b1189b196b69533cbcac9f71b44727f8/grpcio-1.24.3-cp36-cp36m-manylinux2010_x86_64.whl (2.2MB)\n",
      "\u001b[K     |████████████████████████████████| 2.2MB 22.3MB/s eta 0:00:01\n",
      "\u001b[?25hRequirement already satisfied: six>=1.5.2 in /home/jupyterlab/conda/envs/python/lib/python3.6/site-packages (from grpcio==1.24.3) (1.15.0)\n",
      "Installing collected packages: grpcio\n",
      "  Found existing installation: grpcio 1.38.1\n",
      "    Uninstalling grpcio-1.38.1:\n",
      "      Successfully uninstalled grpcio-1.38.1\n",
      "Successfully installed grpcio-1.24.3\n",
      "Collecting tensorflow==2.2.0\n",
      "\u001b[?25l  Downloading https://files.pythonhosted.org/packages/3d/be/679ce5254a8c8d07470efb4a4c00345fae91f766e64f1c2aece8796d7218/tensorflow-2.2.0-cp36-cp36m-manylinux2010_x86_64.whl (516.2MB)\n",
      "\u001b[K     |████████████████████████████████| 516.2MB 57kB/s s eta 0:00:01    |██                              | 32.2MB 43.3MB/s eta 0:00:12     |█████▌                          | 88.8MB 48.8MB/s eta 0:00:0910     |████████▍                       | 135.9MB 38.4MB/s eta 0:00:10     |████████████████▋               | 268.2MB 9.9MB/s eta 0:00:26    |████████████████▉               | 271.8MB 9.7MB/s eta 0:00:26��███▋    | 446.1MB 10.0MB/s eta 0:00:08\n",
      "\u001b[?25hCollecting opt-einsum>=2.3.2 (from tensorflow==2.2.0)\n",
      "\u001b[?25l  Downloading https://files.pythonhosted.org/packages/bc/19/404708a7e54ad2798907210462fd950c3442ea51acc8790f3da48d2bee8b/opt_einsum-3.3.0-py3-none-any.whl (65kB)\n",
      "\u001b[K     |████████████████████████████████| 71kB 24.6MB/s eta 0:00:01\n",
      "\u001b[?25hCollecting scipy==1.4.1; python_version >= \"3\" (from tensorflow==2.2.0)\n",
      "\u001b[?25l  Downloading https://files.pythonhosted.org/packages/dc/29/162476fd44203116e7980cfbd9352eef9db37c49445d1fec35509022f6aa/scipy-1.4.1-cp36-cp36m-manylinux1_x86_64.whl (26.1MB)\n",
      "\u001b[K     |████████████████████████████████| 26.1MB 1.1MB/s  eta 0:00:01    |██▊                             | 2.2MB 31.0MB/s eta 0:00:01     |████▉                           | 3.9MB 31.0MB/s eta 0:00:01\n",
      "\u001b[?25hRequirement already satisfied: numpy<2.0,>=1.16.0 in /home/jupyterlab/conda/envs/python/lib/python3.6/site-packages (from tensorflow==2.2.0) (1.19.5)\n",
      "Collecting keras-preprocessing>=1.1.0 (from tensorflow==2.2.0)\n",
      "\u001b[?25l  Downloading https://files.pythonhosted.org/packages/79/4c/7c3275a01e12ef9368a892926ab932b33bb13d55794881e3573482b378a7/Keras_Preprocessing-1.1.2-py2.py3-none-any.whl (42kB)\n",
      "\u001b[K     |████████████████████████████████| 51kB 21.3MB/s eta 0:00:01\n",
      "\u001b[?25hCollecting tensorflow-estimator<2.3.0,>=2.2.0 (from tensorflow==2.2.0)\n",
      "\u001b[?25l  Downloading https://files.pythonhosted.org/packages/a4/f5/926ae53d6a226ec0fda5208e0e581cffed895ccc89e36ba76a8e60895b78/tensorflow_estimator-2.2.0-py2.py3-none-any.whl (454kB)\n",
      "\u001b[K     |████████████████████████████████| 460kB 41.6MB/s eta 0:00:01\n",
      "\u001b[?25hCollecting google-pasta>=0.1.8 (from tensorflow==2.2.0)\n",
      "\u001b[?25l  Downloading https://files.pythonhosted.org/packages/a3/de/c648ef6835192e6e2cc03f40b19eeda4382c49b5bafb43d88b931c4c74ac/google_pasta-0.2.0-py3-none-any.whl (57kB)\n",
      "\u001b[K     |████████████████████████████████| 61kB 21.0MB/s eta 0:00:01\n",
      "\u001b[?25hRequirement already satisfied: protobuf>=3.8.0 in /home/jupyterlab/conda/envs/python/lib/python3.6/site-packages (from tensorflow==2.2.0) (3.17.2)\n",
      "Requirement already satisfied: six>=1.12.0 in /home/jupyterlab/conda/envs/python/lib/python3.6/site-packages (from tensorflow==2.2.0) (1.15.0)\n",
      "Collecting astunparse==1.6.3 (from tensorflow==2.2.0)\n",
      "  Downloading https://files.pythonhosted.org/packages/2b/03/13dde6512ad7b4557eb792fbcf0c653af6076b81e5941d36ec61f7ce6028/astunparse-1.6.3-py2.py3-none-any.whl\n",
      "Collecting wrapt>=1.11.1 (from tensorflow==2.2.0)\n",
      "  Using cached https://files.pythonhosted.org/packages/82/f7/e43cefbe88c5fd371f4cf0cf5eb3feccd07515af9fd6cf7dbf1d1793a797/wrapt-1.12.1.tar.gz\n",
      "Collecting h5py<2.11.0,>=2.10.0 (from tensorflow==2.2.0)\n",
      "\u001b[?25l  Downloading https://files.pythonhosted.org/packages/60/06/cafdd44889200e5438b897388f3075b52a8ef01f28a17366d91de0fa2d05/h5py-2.10.0-cp36-cp36m-manylinux1_x86_64.whl (2.9MB)\n",
      "\u001b[K     |████████████████████████████████| 2.9MB 29.8MB/s eta 0:00:01\n",
      "\u001b[?25hRequirement already satisfied: termcolor>=1.1.0 in /home/jupyterlab/conda/envs/python/lib/python3.6/site-packages (from tensorflow==2.2.0) (1.1.0)\n",
      "Collecting gast==0.3.3 (from tensorflow==2.2.0)\n",
      "  Downloading https://files.pythonhosted.org/packages/d6/84/759f5dd23fec8ba71952d97bcc7e2c9d7d63bdc582421f3cd4be845f0c98/gast-0.3.3-py2.py3-none-any.whl\n",
      "Requirement already satisfied: absl-py>=0.7.0 in /home/jupyterlab/conda/envs/python/lib/python3.6/site-packages (from tensorflow==2.2.0) (0.13.0)\n",
      "Requirement already satisfied: grpcio>=1.8.6 in /home/jupyterlab/conda/envs/python/lib/python3.6/site-packages (from tensorflow==2.2.0) (1.24.3)\n",
      "Requirement already satisfied: wheel>=0.26; python_version >= \"3\" in /home/jupyterlab/conda/envs/python/lib/python3.6/site-packages (from tensorflow==2.2.0) (0.36.2)\n",
      "Collecting tensorboard<2.3.0,>=2.2.0 (from tensorflow==2.2.0)\n",
      "\u001b[?25l  Downloading https://files.pythonhosted.org/packages/1d/74/0a6fcb206dcc72a6da9a62dd81784bfdbff5fedb099982861dc2219014fb/tensorboard-2.2.2-py3-none-any.whl (3.0MB)\n",
      "\u001b[K     |████████████████████████████████| 3.0MB 36.1MB/s eta 0:00:01\n",
      "\u001b[?25hRequirement already satisfied: werkzeug>=0.11.15 in /home/jupyterlab/conda/envs/python/lib/python3.6/site-packages (from tensorboard<2.3.0,>=2.2.0->tensorflow==2.2.0) (2.0.1)\n",
      "Requirement already satisfied: markdown>=2.6.8 in /home/jupyterlab/conda/envs/python/lib/python3.6/site-packages (from tensorboard<2.3.0,>=2.2.0->tensorflow==2.2.0) (3.3.4)\n",
      "Requirement already satisfied: requests<3,>=2.21.0 in /home/jupyterlab/conda/envs/python/lib/python3.6/site-packages (from tensorboard<2.3.0,>=2.2.0->tensorflow==2.2.0) (2.25.1)\n",
      "Requirement already satisfied: setuptools>=41.0.0 in /home/jupyterlab/conda/envs/python/lib/python3.6/site-packages (from tensorboard<2.3.0,>=2.2.0->tensorflow==2.2.0) (49.6.0.post20210108)\n",
      "Collecting google-auth<2,>=1.6.3 (from tensorboard<2.3.0,>=2.2.0->tensorflow==2.2.0)\n",
      "\u001b[?25l  Downloading https://files.pythonhosted.org/packages/35/bb/694d851e2c0776a422d43d579b82b7cc065da248d557f37595563824b1c9/google_auth-1.34.0-py2.py3-none-any.whl (152kB)\n",
      "\u001b[K     |████████████████████████████████| 153kB 15.4MB/s eta 0:00:01\n",
      "\u001b[?25hCollecting tensorboard-plugin-wit>=1.6.0 (from tensorboard<2.3.0,>=2.2.0->tensorflow==2.2.0)\n",
      "\u001b[?25l  Downloading https://files.pythonhosted.org/packages/1a/c1/499e600ba0c618b451cd9c425ae1c177249940a2086316552fee7d86c954/tensorboard_plugin_wit-1.8.0-py3-none-any.whl (781kB)\n",
      "\u001b[K     |████████████████████████████████| 788kB 41.5MB/s eta 0:00:01\n",
      "\u001b[?25hCollecting google-auth-oauthlib<0.5,>=0.4.1 (from tensorboard<2.3.0,>=2.2.0->tensorflow==2.2.0)\n",
      "  Downloading https://files.pythonhosted.org/packages/45/d9/df4019fc28b3aed8218e1bfca38158b90b70a3583c15f568ca669564dc24/google_auth_oauthlib-0.4.5-py2.py3-none-any.whl\n",
      "Requirement already satisfied: dataclasses; python_version < \"3.7\" in /home/jupyterlab/conda/envs/python/lib/python3.6/site-packages (from werkzeug>=0.11.15->tensorboard<2.3.0,>=2.2.0->tensorflow==2.2.0) (0.8)\n",
      "Requirement already satisfied: importlib-metadata; python_version < \"3.8\" in /home/jupyterlab/conda/envs/python/lib/python3.6/site-packages (from markdown>=2.6.8->tensorboard<2.3.0,>=2.2.0->tensorflow==2.2.0) (4.6.1)\n",
      "Requirement already satisfied: idna<3,>=2.5 in /home/jupyterlab/conda/envs/python/lib/python3.6/site-packages (from requests<3,>=2.21.0->tensorboard<2.3.0,>=2.2.0->tensorflow==2.2.0) (2.10)\n",
      "Requirement already satisfied: urllib3<1.27,>=1.21.1 in /home/jupyterlab/conda/envs/python/lib/python3.6/site-packages (from requests<3,>=2.21.0->tensorboard<2.3.0,>=2.2.0->tensorflow==2.2.0) (1.26.6)\n",
      "Requirement already satisfied: certifi>=2017.4.17 in /home/jupyterlab/conda/envs/python/lib/python3.6/site-packages (from requests<3,>=2.21.0->tensorboard<2.3.0,>=2.2.0->tensorflow==2.2.0) (2021.5.30)\n",
      "Requirement already satisfied: chardet<5,>=3.0.2 in /home/jupyterlab/conda/envs/python/lib/python3.6/site-packages (from requests<3,>=2.21.0->tensorboard<2.3.0,>=2.2.0->tensorflow==2.2.0) (4.0.0)\n",
      "Collecting rsa<5,>=3.1.4; python_version >= \"3.6\" (from google-auth<2,>=1.6.3->tensorboard<2.3.0,>=2.2.0->tensorflow==2.2.0)\n",
      "  Using cached https://files.pythonhosted.org/packages/e9/93/0c0f002031f18b53af7a6166103c02b9c0667be528944137cc954ec921b3/rsa-4.7.2-py3-none-any.whl\n",
      "Collecting cachetools<5.0,>=2.0.0 (from google-auth<2,>=1.6.3->tensorboard<2.3.0,>=2.2.0->tensorflow==2.2.0)\n",
      "  Using cached https://files.pythonhosted.org/packages/bf/28/c4f5796c67ad06bb91d98d543a5e01805c1ff065e08871f78e52d2a331ad/cachetools-4.2.2-py3-none-any.whl\n",
      "Requirement already satisfied: pyasn1-modules>=0.2.1 in /home/jupyterlab/conda/envs/python/lib/python3.6/site-packages (from google-auth<2,>=1.6.3->tensorboard<2.3.0,>=2.2.0->tensorflow==2.2.0) (0.2.8)\n",
      "Collecting requests-oauthlib>=0.7.0 (from google-auth-oauthlib<0.5,>=0.4.1->tensorboard<2.3.0,>=2.2.0->tensorflow==2.2.0)\n",
      "  Using cached https://files.pythonhosted.org/packages/a3/12/b92740d845ab62ea4edf04d2f4164d82532b5a0b03836d4d4e71c6f3d379/requests_oauthlib-1.3.0-py2.py3-none-any.whl\n",
      "Requirement already satisfied: zipp>=0.5 in /home/jupyterlab/conda/envs/python/lib/python3.6/site-packages (from importlib-metadata; python_version < \"3.8\"->markdown>=2.6.8->tensorboard<2.3.0,>=2.2.0->tensorflow==2.2.0) (3.5.0)\n",
      "Requirement already satisfied: typing-extensions>=3.6.4; python_version < \"3.8\" in /home/jupyterlab/conda/envs/python/lib/python3.6/site-packages (from importlib-metadata; python_version < \"3.8\"->markdown>=2.6.8->tensorboard<2.3.0,>=2.2.0->tensorflow==2.2.0) (3.10.0.0)\n",
      "Requirement already satisfied: pyasn1>=0.1.3 in /home/jupyterlab/conda/envs/python/lib/python3.6/site-packages (from rsa<5,>=3.1.4; python_version >= \"3.6\"->google-auth<2,>=1.6.3->tensorboard<2.3.0,>=2.2.0->tensorflow==2.2.0) (0.4.8)\n",
      "Collecting oauthlib>=3.0.0 (from requests-oauthlib>=0.7.0->google-auth-oauthlib<0.5,>=0.4.1->tensorboard<2.3.0,>=2.2.0->tensorflow==2.2.0)\n",
      "\u001b[?25l  Downloading https://files.pythonhosted.org/packages/e8/5d/9dd1c29e5a786525f6342f6c1d812ed2e37edc653ad297048c1668988053/oauthlib-3.1.1-py2.py3-none-any.whl (146kB)\n",
      "\u001b[K     |████████████████████████████████| 153kB 15.4MB/s eta 0:00:01\n",
      "\u001b[?25hBuilding wheels for collected packages: wrapt\n",
      "  Building wheel for wrapt (setup.py) ... \u001b[?25ldone\n",
      "\u001b[?25h  Stored in directory: /home/jupyterlab/.cache/pip/wheels/b1/c2/ed/d62208260edbd3fa7156545c00ef966f45f2063d0a84f8208a\n",
      "Successfully built wrapt\n",
      "\u001b[31mERROR: networkx 2.6.1 has requirement scipy!=1.6.1,>=1.5, but you'll have scipy 1.4.1 which is incompatible.\u001b[0m\n",
      "Installing collected packages: opt-einsum, scipy, keras-preprocessing, tensorflow-estimator, google-pasta, astunparse, wrapt, h5py, gast, rsa, cachetools, google-auth, tensorboard-plugin-wit, oauthlib, requests-oauthlib, google-auth-oauthlib, tensorboard, tensorflow\n",
      "  Found existing installation: scipy 1.5.3\n",
      "    Uninstalling scipy-1.5.3:\n",
      "      Successfully uninstalled scipy-1.5.3\n",
      "  Found existing installation: h5py 2.8.0\n",
      "    Uninstalling h5py-2.8.0:\n",
      "      Successfully uninstalled h5py-2.8.0\n",
      "  Found existing installation: gast 0.5.0\n",
      "    Uninstalling gast-0.5.0:\n",
      "      Successfully uninstalled gast-0.5.0\n",
      "  Found existing installation: tensorboard 1.8.0\n",
      "    Uninstalling tensorboard-1.8.0:\n",
      "      Successfully uninstalled tensorboard-1.8.0\n",
      "  Found existing installation: tensorflow 1.8.0\n",
      "    Uninstalling tensorflow-1.8.0:\n",
      "      Successfully uninstalled tensorflow-1.8.0\n",
      "Successfully installed astunparse-1.6.3 cachetools-4.2.2 gast-0.3.3 google-auth-1.34.0 google-auth-oauthlib-0.4.5 google-pasta-0.2.0 h5py-2.10.0 keras-preprocessing-1.1.2 oauthlib-3.1.1 opt-einsum-3.3.0 requests-oauthlib-1.3.0 rsa-4.7.2 scipy-1.4.1 tensorboard-2.2.2 tensorboard-plugin-wit-1.8.0 tensorflow-2.2.0 tensorflow-estimator-2.2.0 wrapt-1.12.1\n",
      "Requirement already satisfied: pillow in /home/jupyterlab/conda/envs/python/lib/python3.6/site-packages (8.3.1)\n"
     ]
    }
   ],
   "source": [
    "!pip install grpcio==1.24.3\n",
    "!pip install tensorflow==2.2.0\n",
    "!pip install pillow"
   ]
  },
  {
   "cell_type": "markdown",
   "metadata": {},
   "source": [
    "<b>Notice:</b> This notebook has been created with TensorFlow version 2.2, and might not work with other versions. Therefore we check:\n"
   ]
  },
  {
   "cell_type": "code",
   "execution_count": 3,
   "metadata": {},
   "outputs": [],
   "source": [
    "import tensorflow as tf\n",
    "from IPython.display import Markdown, display\n",
    "\n",
    "def printmd(string):\n",
    "    display(Markdown('# <span style=\"color:red\">'+string+'</span>'))\n",
    "\n",
    "\n",
    "if not tf.__version__ == '2.2.0':\n",
    "    printmd('<<<<<!!!!! ERROR !!!! please upgrade to TensorFlow 2.2.0, or restart your Kernel (Kernel->Restart & Clear Output)>>>>>')"
   ]
  },
  {
   "cell_type": "markdown",
   "metadata": {},
   "source": [
    "Now, we load in all the packages that we use to create the net including the TensorFlow package:\n"
   ]
  },
  {
   "cell_type": "code",
   "execution_count": 4,
   "metadata": {},
   "outputs": [],
   "source": [
    "import tensorflow as tf\n",
    "import numpy as np\n",
    "\n",
    "from PIL import Image\n",
    "from utils import tile_raster_images\n",
    "import matplotlib.pyplot as plt\n",
    "%matplotlib inline"
   ]
  },
  {
   "cell_type": "markdown",
   "metadata": {},
   "source": [
    "<hr>\n"
   ]
  },
  {
   "cell_type": "markdown",
   "metadata": {},
   "source": [
    "<a id=\"ref2\"></a>\n",
    "\n",
    "<h3>RBM layers</h3>\n",
    "\n",
    "An RBM has two layers. The first layer of the RBM is called the <b>visible</b> (or input layer). Imagine that our toy example, has only vectors with 7 values, so the visible layer must have $V=7$ input nodes.\n",
    "The second layer is the <b>hidden</b> layer, which has $H$ neurons in our case. Each hidden node takes on values of either 0 or 1 (i.e., $h_i = 1$ or $h_i$ = 0), with a probability that is a logistic function of the inputs it receives from the other $V$ visible units, called for example, $p(h_i = 1)$. For our toy sample, we'll use 2 nodes in the hidden layer, so $H = 2$.\n",
    "\n",
    "<center><img src=\"https://ibm.box.com/shared/static/eu26opvcefgls6vnwuo29uwp0nudmokh.png\" alt=\"RBM Model\" style=\"width: 400px;\"></center>\n"
   ]
  },
  {
   "cell_type": "markdown",
   "metadata": {},
   "source": [
    "Each node in the first layer also has a <b>bias</b>. We will denote the bias as $v\\_{bias}$, and this single value is shared among the $V$ visible units.\n",
    "\n",
    "The <b>bias</b> of the second is defined similarly as $h\\_{bias}$, and this single value among the $H$ hidden units.\n"
   ]
  },
  {
   "cell_type": "code",
   "execution_count": 5,
   "metadata": {},
   "outputs": [],
   "source": [
    "v_bias = tf.Variable(tf.zeros([7]), tf.float32)\n",
    "h_bias = tf.Variable(tf.zeros([2]), tf.float32)"
   ]
  },
  {
   "cell_type": "markdown",
   "metadata": {},
   "source": [
    "We have to define weights among the input layer and hidden layer nodes. In the weight matrix, the number of rows are equal to the input nodes, and the number of columns are equal to the output nodes. We define a tensor $\\mathbf{W}$ of shape = (7,2), where the number of visible neurons = 7, and the number of hidden neurons = 2.\n"
   ]
  },
  {
   "cell_type": "code",
   "execution_count": 6,
   "metadata": {},
   "outputs": [],
   "source": [
    "W = tf.constant(np.random.normal(loc=0.0, scale=1.0, size=(7, 2)).astype(np.float32))"
   ]
  },
  {
   "cell_type": "markdown",
   "metadata": {},
   "source": [
    "<hr>\n"
   ]
  },
  {
   "cell_type": "markdown",
   "metadata": {},
   "source": [
    "<a id=\"ref3\"></a>\n",
    "\n",
    "<h3>What RBM can do after training?</h3>\n",
    "Think of RBM as a model that has been trained based on images of a dataset of many SUV and sedan cars. Also, imagine that the RBM network has only two hidden nodes, where one node encodes the weight and, and the other encodes the size.  \n",
    "In a sense, the different configurations represent different cars, where one is an SUV and the other is Sedan.  In a training process, through many forward and backward passes, the RBM adjust its weights to send a stronger signal to either the SUV node (0, 1) or the sedan node (1, 0) in the hidden layer, given the pixels of images. Now, given an SUV in hidden layer, which distribution of pixels should we expect? RBM can give you 2 things. First, it encodes your images in hidden layer. Second, it gives you the probability of observing a case, given some hidden values.\n",
    "\n",
    "<h3>The Inference Process</h3>\n",
    "\n",
    "RBM has two phases:\n",
    "\n",
    "<ul>\n",
    "    <li>Forward Pass</li>  \n",
    "    <li>Backward Pass or Reconstruction</li>\n",
    "</ul>\n",
    "\n",
    "<b>Phase 1) Forward pass:</b>\n",
    "\n",
    "Input one training sample (one image) $\\mathbf{x}$ through all visible nodes, and pass it to all hidden nodes. Processing happens in each node in the hidden layer. This computation begins by making stochastic decisions about whether to transmit that input or not (i.e. to determine the state of each hidden layer).  First, the probability vector is computed using the input feature vector $\\mathbf{x}$, the weight matrix $\\mathbf{W}$, and the bias term $h\\_{bias}$, as\n",
    "\n",
    "$$p({h_j}|\\mathbf x)= \\sigma( \\sum\\_{i=1}^V W\\_{ij} x_i + h\\_{bias} )$$,\n",
    "\n",
    "where $\\sigma(z) = (1+e^{-z})^{-1}$ is the logistic function.\n",
    "\n",
    "So, what does $p({h_j})$ represent? It is the <b>probability distribution</b> of the hidden units. That is, RBM uses inputs $x_i$ to make predictions about hidden node activations. For example, imagine that the hidden node activation values are \\[0.51 0.84] for the first training item. It tells you that the conditional probability for each hidden neuron for Phase 1 is:\n",
    "\n",
    "$$p(h\\_{1} = 1|\\mathbf{v}) = 0.51$$\n",
    "$$p(h\\_{2} = 1|\\mathbf{v}) = 0.84$$\n",
    "\n",
    "As a result, for each row in the training set, vector of probabilities is generated.  In TensorFlow, this is referred to as a `tensor` with a shape of (1,2).\n",
    "\n",
    "We then turn unit $j$ with probability $p(h\\_{j}|\\mathbf{v})$, and turn it off with probability $1 - p(h\\_{j}|\\mathbf{v})$ by generating a uniform random number vector $\\mathbf{\\xi}$, and comparing it to the activation probability as\n",
    "\n",
    "<center>If $\\xi_j>p(h_{j}|\\mathbf{v})$, then $h_j=1$, else $h_j=0$.</center>\n",
    "\n",
    "Therefore, the conditional probability of a configuration of $\\mathbf{h}$ given $\\mathbf{v}$ (for a training sample) is:\n",
    "\n",
    "$$p(\\mathbf{h} \\mid \\mathbf{v}) = \\prod\\_{j=1}^H p(h_j \\mid \\mathbf{v})$$\n",
    "\n",
    "where $H$ is the number of hidden units.\n"
   ]
  },
  {
   "cell_type": "markdown",
   "metadata": {},
   "source": [
    "Before we go further, let's look at a toy example for one case out of all input. Assume that we have a trained RBM, and a very simple input vector, such as \\[1.0, 0.0, 0.0, 1.0, 0.0, 0.0, 0.0].\\\n",
    "Let's see what the output of forward pass would look like:\n"
   ]
  },
  {
   "cell_type": "code",
   "execution_count": 7,
   "metadata": {},
   "outputs": [
    {
     "name": "stdout",
     "output_type": "stream",
     "text": [
      "Input:  tf.Tensor([[1. 0. 0. 1. 0. 0. 0.]], shape=(1, 7), dtype=float32)\n",
      "hb:  tf.Tensor([0.1 0.1], shape=(2,), dtype=float32)\n",
      "w:  tf.Tensor(\n",
      "[[-0.14563748  0.56905645]\n",
      " [-0.30711952 -0.36424714]\n",
      " [ 0.14114112  0.07870876]\n",
      " [-1.2583414   0.06523893]\n",
      " [ 0.36634952  0.8372476 ]\n",
      " [ 0.13327082 -2.0754325 ]\n",
      " [ 2.3295197  -1.7806066 ]], shape=(7, 2), dtype=float32)\n",
      "p(h|v):  tf.Tensor([[0.21349613 0.6757472 ]], shape=(1, 2), dtype=float32)\n",
      "h0 states: tf.Tensor([[1. 1.]], shape=(1, 2), dtype=float32)\n"
     ]
    }
   ],
   "source": [
    "X = tf.constant([[1.0, 0.0, 0.0, 1.0, 0.0, 0.0, 0.0]], tf.float32)\n",
    "\n",
    "v_state = X\n",
    "print (\"Input: \", v_state)\n",
    "\n",
    "h_bias = tf.constant([0.1, 0.1])\n",
    "print (\"hb: \", h_bias)\n",
    "print (\"w: \", W)\n",
    "\n",
    "# Calculate the probabilities of turning the hidden units on:\n",
    "h_prob = tf.nn.sigmoid(tf.matmul(v_state, W) + h_bias)  #probabilities of the hidden units\n",
    "print (\"p(h|v): \", h_prob)\n",
    "\n",
    "# Draw samples from the distribution:\n",
    "h_state = tf.nn.relu(tf.sign(h_prob - tf.random.uniform(tf.shape(h_prob)))) #states\n",
    "print (\"h0 states:\", h_state)"
   ]
  },
  {
   "cell_type": "markdown",
   "metadata": {},
   "source": [
    "<b>Phase 2) Backward Pass (Reconstruction):</b>\n",
    "The RBM reconstructs data by making several forward and backward passes between the visible and hidden layers.\n",
    "\n",
    "So, in the second phase (i.e. reconstruction phase), the samples from the hidden layer (i.e. $\\mathbf h$) becomes the input in the backward pass. The same weight matrix and visible layer biases are used to passed to the sigmoid function. The reproduced output is a reconstruction which is an approximation of the original input.\n"
   ]
  },
  {
   "cell_type": "code",
   "execution_count": 8,
   "metadata": {},
   "outputs": [
    {
     "name": "stdout",
     "output_type": "stream",
     "text": [
      "b:  tf.Tensor([0.1 0.2 0.1 0.1 0.1 0.2 0.1], shape=(7,), dtype=float32)\n",
      "p(vi∣h):  tf.Tensor(\n",
      "[[0.62794685 0.3842928  0.57928765 0.25103453 0.7864397  0.14903857\n",
      "  0.65676546]], shape=(1, 7), dtype=float32)\n",
      "v probability states:  tf.Tensor([[1. 1. 0. 0. 1. 0. 0.]], shape=(1, 7), dtype=float32)\n"
     ]
    }
   ],
   "source": [
    "vb = tf.constant([0.1, 0.2, 0.1, 0.1, 0.1, 0.2, 0.1])\n",
    "print (\"b: \", vb)\n",
    "v_prob = tf.nn.sigmoid(tf.matmul(h_state, tf.transpose(W)) + vb)\n",
    "print (\"p(vi∣h): \", v_prob)\n",
    "v_state = tf.nn.relu(tf.sign(v_prob - tf.random.uniform(tf.shape(v_prob))))\n",
    "print (\"v probability states: \", v_state)"
   ]
  },
  {
   "cell_type": "markdown",
   "metadata": {},
   "source": [
    "RBM learns a probability distribution over the input, and then, after being trained, the RBM can generate new samples from the learned probability distribution. As you know, <b>probability distribution</b>, is a mathematical function that provides the probabilities of occurrence of different possible outcomes in an experiment.\n",
    "\n",
    "The (conditional) probability distribution over the visible units v is given by\n",
    "\n",
    "$$p(\\mathbf{v} \\mid \\mathbf{h}) = \\prod\\_{i=1}^V p(v_i \\mid \\mathbf{h}),$$\n",
    "\n",
    "where,\n",
    "\n",
    "$$p(v_i \\mid \\mathbf{h}) = \\sigma\\left(\\sum\\_{j=1}^H W\\_{ji} h_j + v\\_{bias} \\right)$$\n",
    "\n",
    "so, given current state of hidden units and weights, what is the probability of generating \\[1. 0. 0. 1. 0. 0. 0.] in reconstruction phase, based on the above <b>probability distribution</b> function?\n"
   ]
  },
  {
   "cell_type": "code",
   "execution_count": 9,
   "metadata": {},
   "outputs": [
    {
     "name": "stdout",
     "output_type": "stream",
     "text": [
      "input X: [[1. 0. 0. 1. 0. 0. 0.]]\n",
      "probablity vector: [0.62794685 0.3842928  0.57928765 0.25103453 0.7864397  0.14903857\n",
      " 0.65676546]\n",
      "probability of generating X:  0.0025470483\n"
     ]
    }
   ],
   "source": [
    "inp = X\n",
    "print(\"input X:\" , inp.numpy())\n",
    "\n",
    "print(\"probablity vector:\" , v_prob[0].numpy())\n",
    "v_probability = 1\n",
    "\n",
    "for elm, p in zip(inp[0],v_prob[0]) :\n",
    "    if elm ==1:\n",
    "        v_probability *= p\n",
    "    else:\n",
    "        v_probability *= (1-p)\n",
    "\n",
    "print(\"probability of generating X: \" , v_probability.numpy())"
   ]
  },
  {
   "cell_type": "markdown",
   "metadata": {},
   "source": [
    "How similar are vectors $\\mathbf{x}$ and $\\mathbf{v}$? Of course, the reconstructed values most likely will not look anything like the input vector, because our network has not been trained yet. Our objective is to train the model in such a way that the input vector and reconstructed vector to be same. Therefore, based on how different the input values look to the ones that we just reconstructed, the weights are adjusted.\n"
   ]
  },
  {
   "cell_type": "markdown",
   "metadata": {},
   "source": [
    "<hr>\n"
   ]
  },
  {
   "cell_type": "markdown",
   "metadata": {},
   "source": [
    "<h2>MNIST</h2>\n"
   ]
  },
  {
   "cell_type": "markdown",
   "metadata": {},
   "source": [
    "We will be using the MNIST dataset to practice the usage of RBMs. The following cell loads the MNIST dataset.\n"
   ]
  },
  {
   "cell_type": "code",
   "execution_count": 10,
   "metadata": {},
   "outputs": [
    {
     "name": "stdout",
     "output_type": "stream",
     "text": [
      "Downloading data from https://storage.googleapis.com/tensorflow/tf-keras-datasets/mnist.npz\n",
      "11493376/11490434 [==============================] - 0s 0us/step\n"
     ]
    }
   ],
   "source": [
    "#loading training and test data\n",
    "mnist = tf.keras.datasets.mnist\n",
    "(trX, trY), (teX, teY) = mnist.load_data()\n",
    "\n",
    "# showing an example of the Flatten class and operation\n",
    "from tensorflow.keras.layers import Flatten\n",
    "flatten = Flatten(dtype='float32')\n",
    "trX = flatten(trX/255.0)\n",
    "trY = flatten(trY/255.0)"
   ]
  },
  {
   "cell_type": "markdown",
   "metadata": {},
   "source": [
    "Lets look at the dimension of the images.\n"
   ]
  },
  {
   "cell_type": "markdown",
   "metadata": {},
   "source": [
    "MNIST images have 784 pixels, so the visible layer must have 784 input nodes.  For our case, we'll use 50 nodes in the hidden layer, so i = 50.\n"
   ]
  },
  {
   "cell_type": "code",
   "execution_count": 11,
   "metadata": {
    "tags": []
   },
   "outputs": [],
   "source": [
    "vb = tf.Variable(tf.zeros([784]), tf.float32)\n",
    "hb = tf.Variable(tf.zeros([50]), tf.float32)"
   ]
  },
  {
   "cell_type": "markdown",
   "metadata": {},
   "source": [
    "Let $\\mathbf W$ be the Tensor of 784x50 (784 - number of visible neurons, 50 - number of hidden neurons) that represents weights between the neurons.\n"
   ]
  },
  {
   "cell_type": "code",
   "execution_count": 12,
   "metadata": {
    "tags": []
   },
   "outputs": [],
   "source": [
    "W = tf.Variable(tf.zeros([784,50]), tf.float32)"
   ]
  },
  {
   "cell_type": "markdown",
   "metadata": {},
   "source": [
    "Lets define the visible layer:\n"
   ]
  },
  {
   "cell_type": "code",
   "execution_count": 13,
   "metadata": {},
   "outputs": [
    {
     "data": {
      "text/plain": [
       "<tf.Tensor: shape=(1, 50), dtype=float32, numpy=\n",
       "array([[0., 0., 0., 0., 0., 0., 0., 0., 0., 0., 0., 0., 0., 0., 0., 0.,\n",
       "        0., 0., 0., 0., 0., 0., 0., 0., 0., 0., 0., 0., 0., 0., 0., 0.,\n",
       "        0., 0., 0., 0., 0., 0., 0., 0., 0., 0., 0., 0., 0., 0., 0., 0.,\n",
       "        0., 0.]], dtype=float32)>"
      ]
     },
     "execution_count": 13,
     "metadata": {},
     "output_type": "execute_result"
    }
   ],
   "source": [
    "v0_state = tf.Variable(tf.zeros([784]), tf.float32)\n",
    "\n",
    "#testing to see if the matrix product works\n",
    "tf.matmul( [v0_state], W)"
   ]
  },
  {
   "cell_type": "markdown",
   "metadata": {},
   "source": [
    "Now, we can define hidden layer:\n"
   ]
  },
  {
   "cell_type": "code",
   "execution_count": 14,
   "metadata": {},
   "outputs": [
    {
     "name": "stdout",
     "output_type": "stream",
     "text": [
      "h0_state shape:  tf.Tensor([ 1 50], shape=(2,), dtype=int32)\n",
      "first 15 hidden states:  tf.Tensor([1. 0. 0. 0. 1. 1. 1. 1. 0. 1. 0. 0. 0. 0. 1.], shape=(15,), dtype=float32)\n"
     ]
    }
   ],
   "source": [
    "#computing the hidden nodes probability vector and checking shape\n",
    "h0_prob = tf.nn.sigmoid(tf.matmul([v0_state], W) + hb)  #probabilities of the hidden units\n",
    "print(\"h0_state shape: \" , tf.shape(h0_prob))\n",
    "\n",
    "#defining a function to return only the generated hidden states \n",
    "def hidden_layer(v0_state, W, hb):\n",
    "    h0_prob = tf.nn.sigmoid(tf.matmul([v0_state], W) + hb)  #probabilities of the hidden units\n",
    "    h0_state = tf.nn.relu(tf.sign(h0_prob - tf.random.uniform(tf.shape(h0_prob)))) #sample_h_given_X\n",
    "    return h0_state\n",
    "\n",
    "\n",
    "h0_state = hidden_layer(v0_state, W, hb)\n",
    "print(\"first 15 hidden states: \", h0_state[0][0:15])"
   ]
  },
  {
   "cell_type": "markdown",
   "metadata": {},
   "source": [
    "Now, we define reconstruction part:\n"
   ]
  },
  {
   "cell_type": "code",
   "execution_count": 15,
   "metadata": {},
   "outputs": [
    {
     "name": "stdout",
     "output_type": "stream",
     "text": [
      "hidden state shape:  (1, 50)\n",
      "v0 state shape:   (784,)\n",
      "v1 state shape:   (784,)\n"
     ]
    }
   ],
   "source": [
    "def reconstructed_output(h0_state, W, vb):\n",
    "    v1_prob = tf.nn.sigmoid(tf.matmul(h0_state, tf.transpose(W)) + vb) \n",
    "    v1_state = tf.nn.relu(tf.sign(v1_prob - tf.random.uniform(tf.shape(v1_prob)))) #sample_v_given_h\n",
    "    return v1_state[0]\n",
    "\n",
    "v1_state = reconstructed_output(h0_state, W, vb)\n",
    "print(\"hidden state shape: \", h0_state.shape)\n",
    "print(\"v0 state shape:  \", v0_state.shape)\n",
    "print(\"v1 state shape:  \", v1_state.shape)"
   ]
  },
  {
   "cell_type": "markdown",
   "metadata": {},
   "source": [
    "<h3>What is the objective function?</h3>\n",
    "\n",
    "<b>Goal</b>: Maximize the likelihood of our data being drawn from that distribution\n",
    "\n",
    "<b>Calculate error:</b>\\\n",
    "In each epoch, we compute the \"error\" as a sum of the squared difference between step 1 and step n,\n",
    "e.g the error shows the difference between the data and its reconstruction.\n",
    "\n",
    "<b>Note:</b> tf.reduce_mean computes the mean of elements across dimensions of a tensor.\n"
   ]
  },
  {
   "cell_type": "code",
   "execution_count": 16,
   "metadata": {},
   "outputs": [
    {
     "name": "stdout",
     "output_type": "stream",
     "text": [
      "error 0.48341838\n"
     ]
    }
   ],
   "source": [
    "def error(v0_state, v1_state):\n",
    "    return tf.reduce_mean(tf.square(v0_state - v1_state))\n",
    "\n",
    "err = tf.reduce_mean(tf.square(v0_state - v1_state))\n",
    "print(\"error\" , err.numpy())"
   ]
  },
  {
   "cell_type": "markdown",
   "metadata": {},
   "source": [
    "<a id=\"ref4\"></a>\n",
    "\n",
    "<h3>Training the Model</h3>\n",
    "<b>Warning...</b> The following part is math-heavy, but you can skip it if you just want to run the cells in the next section.\n",
    "\n",
    "As mentioned, we want to give a high probability to the input data we train on. So, in order to train an RBM, we have to maximize the product of probabilities assigned to all rows $\\mathbf{v}$ (images) in the training set $\\mathbf{V}$ (a matrix, where each row of it is treated as a visible vector $\\mathbf{v}$)\n",
    "\n",
    "$$\\arg \\max_W \\prod\\_{\\mathbf{v}\\in\\mathbf{V}\\_T} p(\\mathbf{v})$$\n",
    "\n",
    "which is equivalent to maximizing the expectation of the log probability, given as\n",
    "\n",
    "$$\\arg\\max_W\\left\\[ \\mathbb{E} \\left(\\prod\\_{\\mathbf v\\in \\mathbf V}\\text{log} \\left(p(\\mathbf v)\\right) \\right) \\right].$$\n",
    "\n",
    "So, we have to update the weights $W\\_{ij}$  to increase $p(\\mathbf{v})$ for all $\\mathbf{v}$ in our training data during training. So we have to calculate the derivative:\n",
    "\n",
    "$$\\frac{\\partial \\log p(\\mathbf v)}{\\partial W\\_{ij}}$$\n",
    "\n",
    "This cannot be easily done by typical <b>gradient descent (SGD)</b>, so we can use another approach, which has 2 steps:\n",
    "\n",
    "<ol>\n",
    "    <li>Gibbs Sampling</li>\n",
    "    <li>Contrastive Divergence</li>\n",
    "</ol>    \n",
    "\n",
    "<h3>Gibbs Sampling</h3>   \n",
    "\n",
    "<h4>Gibbs Sampling Step 1</h4> \n",
    "Given an input vector $\\mathbf{v}$, we are using $p(\\mathbf{h}|\\mathbf{v})$ to predict the hidden values $\\mathbf{h}$. \n",
    "  $$p({h_j}|\\mathbf v)= \\sigma\\left(\\sum_{i=1}^V W_{ij} v_i + h_{bias} \\right)$$\n",
    "The samples are generated from this distribution by generating the uniform random variate vector $\\mathbf{\\xi} \\sim U[0,1]$ of length $H$ and comparing to the computed probabilities as\n",
    "\n",
    "<center>If $\\xi_j>p(h_{j}|\\mathbf{v})$, then $h_j=1$, else $h_j=0$.</center>\n",
    "\n",
    "<h4>Gibbs Sampling Step 2</h4> \n",
    "Then, knowing the hidden values, we use $p(\\mathbf v| \\mathbf h)$ for reconstructing of new input values v. \n",
    "\n",
    "$$p({v_i}|\\mathbf h)= \\sigma\\left(\\sum\\_{j=1}^H W^{T}*{ij} h_j + v*{bias} \\right)$$\n",
    "\n",
    "The samples are generated from this distribution by generating a uniform random variate vector $\\mathbf{\\xi} \\sim U\\[0,1]$ of length $V$ and comparing to the computed probabilities as\n",
    "\n",
    "<center>If $\\xi_i>p(v_{i}|\\mathbf{h})$, then $v_i=1$, else $v_i=0$.</center>\n",
    "\n",
    "Let vectors $\\mathbf v_k$ and $\\mathbf h_k$ be for the $k$th iteration.  In general, the $kth$ state is generrated as:\n",
    "\n",
    "<b>Iteration</b> $k$:\n",
    "\n",
    "$$\\mathbf v\\_{k-1} \\Rightarrow p(\\mathbf h\\_{k-1}|\\mathbf v\\_{k-1})\\Rightarrow \\mathbf h\\_{k-1}\\Rightarrow p(\\mathbf v\\_{k}|\\mathbf h\\_{k-1})\\Rightarrow \\mathbf v_k$$\n",
    "\n",
    "<h3>Contrastive Divergence (CD-k)</h3>\n",
    "The update of the weight matrix is done during the Contrastive Divergence step. \n",
    "\n",
    "Vectors v0 and vk are used to calculate the activation probabilities for hidden values h0 and hk. The difference between the outer products of those probabilities with input vectors v0 and vk results in the update matrix:\n",
    "\n",
    "$$\\Delta \\mathbf W_k =\\mathbf v_k \\otimes \\mathbf h_k - \\mathbf v\\_{k-1} \\otimes \\mathbf h\\_{k-1}$$\n",
    "\n",
    "Contrastive Divergence is actually matrix of values that is computed and used to adjust values of the $\\mathbf W$ matrix. Changing $\\mathbf W$ incrementally leads to training of the  $\\mathbf W$ values. Then, on each step (epoch), $\\mathbf W$ is updated using the following:\n",
    "\n",
    "$$\\mathbf W_k = \\mathbf W\\_{k-1} + \\alpha \\* \\Delta \\mathbf W_k$$\n",
    "\n",
    "Reconstruction steps:\n",
    "\n",
    "<ul>\n",
    "    <li> Get one data point from data set, like <i>x</i>, and pass it through the following steps:</li>\n",
    "\n",
    "<b>Iteration</b> $k=1$:\n",
    "\n",
    "Sampling (starting with input image)\n",
    "$$\\mathbf x = \\mathbf v\\_0 \\Rightarrow p(\\mathbf h\\_0|\\mathbf v\\_0)\\Rightarrow \\mathbf h\\_0 \\Rightarrow p(\\mathbf v\\_1|\\mathbf h\\_0)\\Rightarrow \\mathbf v\\_1$$\\\n",
    "followed by the CD-k step\n",
    "$$\\Delta \\mathbf W\\_1 =\\mathbf v\\_1 \\otimes \\mathbf h\\_1 - \\mathbf v\\_{0} \\otimes \\mathbf h\\_{0}$$\\\n",
    "$$\\mathbf W\\_1 = \\mathbf W\\_{0} + \\alpha \\* \\Delta \\mathbf W\\_1$$\n",
    "\n",
    "<li> $\\mathbf v_1$ is the reconstruction of $\\mathbf x$ sent to the next iteration).</li>\n",
    "\n",
    "<b>Iteration</b> $k=2$:\n",
    "\n",
    "Sampling (starting with $\\mathbf v\\_1$)\n",
    "\n",
    "$$\\mathbf v\\_1 \\Rightarrow p(\\mathbf h\\_1|\\mathbf v\\_1)\\Rightarrow \\mathbf h\\_1\\Rightarrow p(\\mathbf v\\_2|\\mathbf h\\_1)\\Rightarrow \\mathbf v\\_2$$\n",
    "\n",
    "followed by the CD-k step\n",
    "$$\\Delta \\mathbf W\\_2 =\\mathbf v\\_2 \\otimes \\mathbf h\\_2 - \\mathbf v\\_{1} \\otimes \\mathbf h\\_{1}$$\\\n",
    "$$\\mathbf W\\_2 = \\mathbf W\\_{1} + \\alpha \\* \\Delta \\mathbf W\\_2$$\n",
    "\n",
    "<li> $\\mathbf v_2$ is the reconstruction of $\\mathbf v_1$ sent to the next iteration).</li>    \n",
    "\n",
    "<b>Iteration</b> $k=K$:\n",
    "\n",
    "Sampling (starting with $\\mathbf v\\_{K-1}$)\n",
    "\n",
    "$$\\mathbf v\\_{K-1} \\Rightarrow p(\\mathbf h\\_{K-1}|\\mathbf v\\_{K-1})\\Rightarrow \\mathbf h\\_{K-1}\\Rightarrow p(\\mathbf v_K|\\mathbf h\\_{K-1})\\Rightarrow \\mathbf v_K$$\n",
    "\n",
    "followed by the CD-k step\n",
    "$$\\Delta \\mathbf W_K =\\mathbf v_K \\otimes \\mathbf h_K - \\mathbf v\\_{K-1} \\otimes \\mathbf h\\_{K-1}$$\\\n",
    "$$\\mathbf W_K = \\mathbf W\\_{K-1} + \\alpha \\* \\Delta \\mathbf W_K$$\n",
    "\n",
    "<b>What is $\\alpha$?</b>\\\n",
    "Here, alpha is some small step size, and is also known as the \"learning rate\".\n"
   ]
  },
  {
   "cell_type": "markdown",
   "metadata": {},
   "source": [
    "$K$ is adjustable, and good performance can be achieved with $K=1$, so that we just take one set of sampling steps per image.\n"
   ]
  },
  {
   "cell_type": "code",
   "execution_count": 17,
   "metadata": {},
   "outputs": [],
   "source": [
    "h1_prob = tf.nn.sigmoid(tf.matmul([v1_state], W) + hb)\n",
    "h1_state = tf.nn.relu(tf.sign(h1_prob - tf.random.uniform(tf.shape(h1_prob)))) #sample_h_given_X\n"
   ]
  },
  {
   "cell_type": "markdown",
   "metadata": {},
   "source": [
    "Lets look at the error of the first run:\n"
   ]
  },
  {
   "cell_type": "code",
   "execution_count": 18,
   "metadata": {},
   "outputs": [
    {
     "name": "stdout",
     "output_type": "stream",
     "text": [
      "error:  tf.Tensor(0.48341838, shape=(), dtype=float32)\n"
     ]
    }
   ],
   "source": [
    "print(\"error: \", error(v0_state, v1_state))"
   ]
  },
  {
   "cell_type": "code",
   "execution_count": 19,
   "metadata": {
    "tags": []
   },
   "outputs": [
    {
     "name": "stdout",
     "output_type": "stream",
     "text": [
      "Epoch: 0 batch #: 1  of 300 sample #: 199 reconstruction error: 0.165879\n",
      "Epoch: 0 batch #: 2  of 300 sample #: 199 reconstruction error: 0.222442\n",
      "Epoch: 0 batch #: 3  of 300 sample #: 199 reconstruction error: 0.126187\n",
      "Epoch: 0 batch #: 4  of 300 sample #: 199 reconstruction error: 0.126622\n",
      "Epoch: 0 batch #: 5  of 300 sample #: 199 reconstruction error: 0.116109\n",
      "Epoch: 0 batch #: 6  of 300 sample #: 199 reconstruction error: 0.175409\n",
      "Epoch: 0 batch #: 7  of 300 sample #: 199 reconstruction error: 0.104205\n",
      "Epoch: 0 batch #: 8  of 300 sample #: 199 reconstruction error: 0.111691\n",
      "Epoch: 0 batch #: 9  of 300 sample #: 199 reconstruction error: 0.090513\n",
      "Epoch: 0 batch #: 10  of 300 sample #: 199 reconstruction error: 0.175751\n",
      "Epoch: 0 batch #: 11  of 300 sample #: 199 reconstruction error: 0.088955\n",
      "Epoch: 0 batch #: 12  of 300 sample #: 199 reconstruction error: 0.134670\n",
      "Epoch: 0 batch #: 13  of 300 sample #: 199 reconstruction error: 0.074998\n",
      "Epoch: 0 batch #: 14  of 300 sample #: 199 reconstruction error: 0.108305\n",
      "Epoch: 0 batch #: 15  of 300 sample #: 199 reconstruction error: 0.102012\n",
      "Epoch: 0 batch #: 16  of 300 sample #: 199 reconstruction error: 0.090806\n",
      "Epoch: 0 batch #: 17  of 300 sample #: 199 reconstruction error: 0.086157\n",
      "Epoch: 0 batch #: 18  of 300 sample #: 199 reconstruction error: 0.109680\n",
      "Epoch: 0 batch #: 19  of 300 sample #: 199 reconstruction error: 0.128661\n",
      "Epoch: 0 batch #: 20  of 300 sample #: 199 reconstruction error: 0.107878\n",
      "Epoch: 0 batch #: 21  of 300 sample #: 199 reconstruction error: 0.095471\n",
      "Epoch: 0 batch #: 22  of 300 sample #: 199 reconstruction error: 0.093230\n",
      "Epoch: 0 batch #: 23  of 300 sample #: 199 reconstruction error: 0.113921\n",
      "Epoch: 0 batch #: 24  of 300 sample #: 199 reconstruction error: 0.133798\n",
      "Epoch: 0 batch #: 25  of 300 sample #: 199 reconstruction error: 0.091206\n",
      "Epoch: 0 batch #: 26  of 300 sample #: 199 reconstruction error: 0.103869\n",
      "Epoch: 0 batch #: 27  of 300 sample #: 199 reconstruction error: 0.111129\n",
      "Epoch: 0 batch #: 28  of 300 sample #: 199 reconstruction error: 0.084991\n",
      "Epoch: 0 batch #: 29  of 300 sample #: 199 reconstruction error: 0.107358\n",
      "Epoch: 0 batch #: 30  of 300 sample #: 199 reconstruction error: 0.089298\n",
      "Epoch: 0 batch #: 31  of 300 sample #: 199 reconstruction error: 0.091033\n",
      "Epoch: 0 batch #: 32  of 300 sample #: 199 reconstruction error: 0.128488\n",
      "Epoch: 0 batch #: 33  of 300 sample #: 199 reconstruction error: 0.066505\n",
      "Epoch: 0 batch #: 34  of 300 sample #: 199 reconstruction error: 0.085364\n",
      "Epoch: 0 batch #: 35  of 300 sample #: 199 reconstruction error: 0.074615\n",
      "Epoch: 0 batch #: 36  of 300 sample #: 199 reconstruction error: 0.101841\n",
      "Epoch: 0 batch #: 37  of 300 sample #: 199 reconstruction error: 0.074048\n",
      "Epoch: 0 batch #: 38  of 300 sample #: 199 reconstruction error: 0.067702\n",
      "Epoch: 0 batch #: 39  of 300 sample #: 199 reconstruction error: 0.099385\n",
      "Epoch: 0 batch #: 40  of 300 sample #: 199 reconstruction error: 0.098704\n",
      "Epoch: 0 batch #: 41  of 300 sample #: 199 reconstruction error: 0.087957\n",
      "Epoch: 0 batch #: 42  of 300 sample #: 199 reconstruction error: 0.073513\n",
      "Epoch: 0 batch #: 43  of 300 sample #: 199 reconstruction error: 0.118491\n",
      "Epoch: 0 batch #: 44  of 300 sample #: 199 reconstruction error: 0.069759\n",
      "Epoch: 0 batch #: 45  of 300 sample #: 199 reconstruction error: 0.062738\n",
      "Epoch: 0 batch #: 46  of 300 sample #: 199 reconstruction error: 0.033917\n",
      "Epoch: 0 batch #: 47  of 300 sample #: 199 reconstruction error: 0.042391\n",
      "Epoch: 0 batch #: 48  of 300 sample #: 199 reconstruction error: 0.038421\n",
      "Epoch: 0 batch #: 49  of 300 sample #: 199 reconstruction error: 0.124303\n",
      "Epoch: 0 batch #: 50  of 300 sample #: 199 reconstruction error: 0.047352\n",
      "Epoch: 0 batch #: 51  of 300 sample #: 199 reconstruction error: 0.070409\n",
      "Epoch: 0 batch #: 52  of 300 sample #: 199 reconstruction error: 0.032394\n",
      "Epoch: 0 batch #: 53  of 300 sample #: 199 reconstruction error: 0.108953\n",
      "Epoch: 0 batch #: 54  of 300 sample #: 199 reconstruction error: 0.049438\n",
      "Epoch: 0 batch #: 55  of 300 sample #: 199 reconstruction error: 0.106758\n",
      "Epoch: 0 batch #: 56  of 300 sample #: 199 reconstruction error: 0.055270\n",
      "Epoch: 0 batch #: 57  of 300 sample #: 199 reconstruction error: 0.052106\n",
      "Epoch: 0 batch #: 58  of 300 sample #: 199 reconstruction error: 0.068265\n",
      "Epoch: 0 batch #: 59  of 300 sample #: 199 reconstruction error: 0.048323\n",
      "Epoch: 0 batch #: 60  of 300 sample #: 199 reconstruction error: 0.087777\n",
      "Epoch: 0 batch #: 61  of 300 sample #: 199 reconstruction error: 0.067762\n",
      "Epoch: 0 batch #: 62  of 300 sample #: 199 reconstruction error: 0.082784\n",
      "Epoch: 0 batch #: 63  of 300 sample #: 199 reconstruction error: 0.059468\n",
      "Epoch: 0 batch #: 64  of 300 sample #: 199 reconstruction error: 0.086038\n",
      "Epoch: 0 batch #: 65  of 300 sample #: 199 reconstruction error: 0.074160\n",
      "Epoch: 0 batch #: 66  of 300 sample #: 199 reconstruction error: 0.052437\n",
      "Epoch: 0 batch #: 67  of 300 sample #: 199 reconstruction error: 0.048890\n",
      "Epoch: 0 batch #: 68  of 300 sample #: 199 reconstruction error: 0.058541\n",
      "Epoch: 0 batch #: 69  of 300 sample #: 199 reconstruction error: 0.075319\n",
      "Epoch: 0 batch #: 70  of 300 sample #: 199 reconstruction error: 0.085809\n",
      "Epoch: 0 batch #: 71  of 300 sample #: 199 reconstruction error: 0.076775\n",
      "Epoch: 0 batch #: 72  of 300 sample #: 199 reconstruction error: 0.048340\n",
      "Epoch: 0 batch #: 73  of 300 sample #: 199 reconstruction error: 0.095867\n",
      "Epoch: 0 batch #: 74  of 300 sample #: 199 reconstruction error: 0.093364\n",
      "Epoch: 0 batch #: 75  of 300 sample #: 199 reconstruction error: 0.054390\n",
      "Epoch: 0 batch #: 76  of 300 sample #: 199 reconstruction error: 0.059078\n",
      "Epoch: 0 batch #: 77  of 300 sample #: 199 reconstruction error: 0.100198\n",
      "Epoch: 0 batch #: 78  of 300 sample #: 199 reconstruction error: 0.108351\n",
      "Epoch: 0 batch #: 79  of 300 sample #: 199 reconstruction error: 0.112188\n",
      "Epoch: 0 batch #: 80  of 300 sample #: 199 reconstruction error: 0.034557\n",
      "Epoch: 0 batch #: 81  of 300 sample #: 199 reconstruction error: 0.059993\n",
      "Epoch: 0 batch #: 82  of 300 sample #: 199 reconstruction error: 0.039680\n",
      "Epoch: 0 batch #: 83  of 300 sample #: 199 reconstruction error: 0.073219\n",
      "Epoch: 0 batch #: 84  of 300 sample #: 199 reconstruction error: 0.069089\n",
      "Epoch: 0 batch #: 85  of 300 sample #: 199 reconstruction error: 0.044708\n",
      "Epoch: 0 batch #: 86  of 300 sample #: 199 reconstruction error: 0.085979\n",
      "Epoch: 0 batch #: 87  of 300 sample #: 199 reconstruction error: 0.083914\n",
      "Epoch: 0 batch #: 88  of 300 sample #: 199 reconstruction error: 0.027266\n",
      "Epoch: 0 batch #: 89  of 300 sample #: 199 reconstruction error: 0.066441\n",
      "Epoch: 0 batch #: 90  of 300 sample #: 199 reconstruction error: 0.067302\n",
      "Epoch: 0 batch #: 91  of 300 sample #: 199 reconstruction error: 0.053798\n",
      "Epoch: 0 batch #: 92  of 300 sample #: 199 reconstruction error: 0.072726\n",
      "Epoch: 0 batch #: 93  of 300 sample #: 199 reconstruction error: 0.113322\n",
      "Epoch: 0 batch #: 94  of 300 sample #: 199 reconstruction error: 0.122308\n",
      "Epoch: 0 batch #: 95  of 300 sample #: 199 reconstruction error: 0.067016\n",
      "Epoch: 0 batch #: 96  of 300 sample #: 199 reconstruction error: 0.058887\n",
      "Epoch: 0 batch #: 97  of 300 sample #: 199 reconstruction error: 0.106350\n",
      "Epoch: 0 batch #: 98  of 300 sample #: 199 reconstruction error: 0.099108\n",
      "Epoch: 0 batch #: 99  of 300 sample #: 199 reconstruction error: 0.067590\n",
      "Epoch: 0 batch #: 100  of 300 sample #: 199 reconstruction error: 0.087604\n",
      "Epoch: 0 batch #: 101  of 300 sample #: 199 reconstruction error: 0.082651\n",
      "Epoch: 0 batch #: 102  of 300 sample #: 199 reconstruction error: 0.073443\n",
      "Epoch: 0 batch #: 103  of 300 sample #: 199 reconstruction error: 0.081626\n",
      "Epoch: 0 batch #: 104  of 300 sample #: 199 reconstruction error: 0.073624\n",
      "Epoch: 0 batch #: 105  of 300 sample #: 199 reconstruction error: 0.056970\n",
      "Epoch: 0 batch #: 106  of 300 sample #: 199 reconstruction error: 0.113405\n",
      "Epoch: 0 batch #: 107  of 300 sample #: 199 reconstruction error: 0.120021\n",
      "Epoch: 0 batch #: 108  of 300 sample #: 199 reconstruction error: 0.069667\n",
      "Epoch: 0 batch #: 109  of 300 sample #: 199 reconstruction error: 0.109665\n",
      "Epoch: 0 batch #: 110  of 300 sample #: 199 reconstruction error: 0.058026\n",
      "Epoch: 0 batch #: 111  of 300 sample #: 199 reconstruction error: 0.102137\n",
      "Epoch: 0 batch #: 112  of 300 sample #: 199 reconstruction error: 0.043397\n",
      "Epoch: 0 batch #: 113  of 300 sample #: 199 reconstruction error: 0.065916\n",
      "Epoch: 0 batch #: 114  of 300 sample #: 199 reconstruction error: 0.083153\n",
      "Epoch: 0 batch #: 115  of 300 sample #: 199 reconstruction error: 0.068479\n",
      "Epoch: 0 batch #: 116  of 300 sample #: 199 reconstruction error: 0.053446\n",
      "Epoch: 0 batch #: 117  of 300 sample #: 199 reconstruction error: 0.046694\n",
      "Epoch: 0 batch #: 118  of 300 sample #: 199 reconstruction error: 0.075841\n",
      "Epoch: 0 batch #: 119  of 300 sample #: 199 reconstruction error: 0.114749\n",
      "Epoch: 0 batch #: 120  of 300 sample #: 199 reconstruction error: 0.080753\n",
      "Epoch: 0 batch #: 121  of 300 sample #: 199 reconstruction error: 0.047309\n",
      "Epoch: 0 batch #: 122  of 300 sample #: 199 reconstruction error: 0.104929\n",
      "Epoch: 0 batch #: 123  of 300 sample #: 199 reconstruction error: 0.068345\n",
      "Epoch: 0 batch #: 124  of 300 sample #: 199 reconstruction error: 0.072003\n",
      "Epoch: 0 batch #: 125  of 300 sample #: 199 reconstruction error: 0.051314\n",
      "Epoch: 0 batch #: 126  of 300 sample #: 199 reconstruction error: 0.084657\n",
      "Epoch: 0 batch #: 127  of 300 sample #: 199 reconstruction error: 0.097438\n",
      "Epoch: 0 batch #: 128  of 300 sample #: 199 reconstruction error: 0.062269\n",
      "Epoch: 0 batch #: 129  of 300 sample #: 199 reconstruction error: 0.056497\n",
      "Epoch: 0 batch #: 130  of 300 sample #: 199 reconstruction error: 0.076865\n",
      "Epoch: 0 batch #: 131  of 300 sample #: 199 reconstruction error: 0.066989\n",
      "Epoch: 0 batch #: 132  of 300 sample #: 199 reconstruction error: 0.046371\n",
      "Epoch: 0 batch #: 133  of 300 sample #: 199 reconstruction error: 0.062482\n",
      "Epoch: 0 batch #: 134  of 300 sample #: 199 reconstruction error: 0.099063\n",
      "Epoch: 0 batch #: 135  of 300 sample #: 199 reconstruction error: 0.107063\n",
      "Epoch: 0 batch #: 136  of 300 sample #: 199 reconstruction error: 0.108722\n",
      "Epoch: 0 batch #: 137  of 300 sample #: 199 reconstruction error: 0.066570\n",
      "Epoch: 0 batch #: 138  of 300 sample #: 199 reconstruction error: 0.078254\n",
      "Epoch: 0 batch #: 139  of 300 sample #: 199 reconstruction error: 0.083889\n",
      "Epoch: 0 batch #: 140  of 300 sample #: 199 reconstruction error: 0.079662\n",
      "Epoch: 0 batch #: 141  of 300 sample #: 199 reconstruction error: 0.096996\n",
      "Epoch: 0 batch #: 142  of 300 sample #: 199 reconstruction error: 0.065998\n",
      "Epoch: 0 batch #: 143  of 300 sample #: 199 reconstruction error: 0.068111\n",
      "Epoch: 0 batch #: 144  of 300 sample #: 199 reconstruction error: 0.078497\n",
      "Epoch: 0 batch #: 145  of 300 sample #: 199 reconstruction error: 0.095232\n",
      "Epoch: 0 batch #: 146  of 300 sample #: 199 reconstruction error: 0.126589\n",
      "Epoch: 0 batch #: 147  of 300 sample #: 199 reconstruction error: 0.073236\n",
      "Epoch: 0 batch #: 148  of 300 sample #: 199 reconstruction error: 0.074674\n",
      "Epoch: 0 batch #: 149  of 300 sample #: 199 reconstruction error: 0.043007\n",
      "Epoch: 0 batch #: 150  of 300 sample #: 199 reconstruction error: 0.042314\n",
      "Epoch: 0 batch #: 151  of 300 sample #: 199 reconstruction error: 0.110663\n",
      "Epoch: 0 batch #: 152  of 300 sample #: 199 reconstruction error: 0.084990\n",
      "Epoch: 0 batch #: 153  of 300 sample #: 199 reconstruction error: 0.052554\n",
      "Epoch: 0 batch #: 154  of 300 sample #: 199 reconstruction error: 0.063193\n",
      "Epoch: 0 batch #: 155  of 300 sample #: 199 reconstruction error: 0.064749\n",
      "Epoch: 0 batch #: 156  of 300 sample #: 199 reconstruction error: 0.074716\n",
      "Epoch: 0 batch #: 157  of 300 sample #: 199 reconstruction error: 0.096285\n",
      "Epoch: 0 batch #: 158  of 300 sample #: 199 reconstruction error: 0.071170\n",
      "Epoch: 0 batch #: 159  of 300 sample #: 199 reconstruction error: 0.063873\n",
      "Epoch: 0 batch #: 160  of 300 sample #: 199 reconstruction error: 0.065661\n",
      "Epoch: 0 batch #: 161  of 300 sample #: 199 reconstruction error: 0.076557\n",
      "Epoch: 0 batch #: 162  of 300 sample #: 199 reconstruction error: 0.101734\n",
      "Epoch: 0 batch #: 163  of 300 sample #: 199 reconstruction error: 0.047225\n",
      "Epoch: 0 batch #: 164  of 300 sample #: 199 reconstruction error: 0.070557\n",
      "Epoch: 0 batch #: 165  of 300 sample #: 199 reconstruction error: 0.067369\n",
      "Epoch: 0 batch #: 166  of 300 sample #: 199 reconstruction error: 0.057694\n",
      "Epoch: 0 batch #: 167  of 300 sample #: 199 reconstruction error: 0.072699\n",
      "Epoch: 0 batch #: 168  of 300 sample #: 199 reconstruction error: 0.053278\n",
      "Epoch: 0 batch #: 169  of 300 sample #: 199 reconstruction error: 0.041028\n",
      "Epoch: 0 batch #: 170  of 300 sample #: 199 reconstruction error: 0.051416\n",
      "Epoch: 0 batch #: 171  of 300 sample #: 199 reconstruction error: 0.031906\n",
      "Epoch: 0 batch #: 172  of 300 sample #: 199 reconstruction error: 0.049241\n",
      "Epoch: 0 batch #: 173  of 300 sample #: 199 reconstruction error: 0.063475\n",
      "Epoch: 0 batch #: 174  of 300 sample #: 199 reconstruction error: 0.117317\n",
      "Epoch: 0 batch #: 175  of 300 sample #: 199 reconstruction error: 0.079456\n",
      "Epoch: 0 batch #: 176  of 300 sample #: 199 reconstruction error: 0.048652\n",
      "Epoch: 0 batch #: 177  of 300 sample #: 199 reconstruction error: 0.040144\n",
      "Epoch: 0 batch #: 178  of 300 sample #: 199 reconstruction error: 0.129370\n",
      "Epoch: 0 batch #: 179  of 300 sample #: 199 reconstruction error: 0.081967\n",
      "Epoch: 0 batch #: 180  of 300 sample #: 199 reconstruction error: 0.084517\n",
      "Epoch: 0 batch #: 181  of 300 sample #: 199 reconstruction error: 0.088815\n",
      "Epoch: 0 batch #: 182  of 300 sample #: 199 reconstruction error: 0.077332\n",
      "Epoch: 0 batch #: 183  of 300 sample #: 199 reconstruction error: 0.116257\n",
      "Epoch: 0 batch #: 184  of 300 sample #: 199 reconstruction error: 0.079995\n",
      "Epoch: 0 batch #: 185  of 300 sample #: 199 reconstruction error: 0.074234\n",
      "Epoch: 0 batch #: 186  of 300 sample #: 199 reconstruction error: 0.098497\n",
      "Epoch: 0 batch #: 187  of 300 sample #: 199 reconstruction error: 0.051711\n",
      "Epoch: 0 batch #: 188  of 300 sample #: 199 reconstruction error: 0.137260\n",
      "Epoch: 0 batch #: 189  of 300 sample #: 199 reconstruction error: 0.071949\n",
      "Epoch: 0 batch #: 190  of 300 sample #: 199 reconstruction error: 0.063258\n",
      "Epoch: 0 batch #: 191  of 300 sample #: 199 reconstruction error: 0.094363\n",
      "Epoch: 0 batch #: 192  of 300 sample #: 199 reconstruction error: 0.121570\n",
      "Epoch: 0 batch #: 193  of 300 sample #: 199 reconstruction error: 0.098372\n",
      "Epoch: 0 batch #: 194  of 300 sample #: 199 reconstruction error: 0.067044\n",
      "Epoch: 0 batch #: 195  of 300 sample #: 199 reconstruction error: 0.038545\n",
      "Epoch: 0 batch #: 196  of 300 sample #: 199 reconstruction error: 0.038700\n",
      "Epoch: 0 batch #: 197  of 300 sample #: 199 reconstruction error: 0.058291\n",
      "Epoch: 0 batch #: 198  of 300 sample #: 199 reconstruction error: 0.077874\n",
      "Epoch: 0 batch #: 199  of 300 sample #: 199 reconstruction error: 0.076127\n",
      "Epoch: 0 batch #: 200  of 300 sample #: 199 reconstruction error: 0.112230\n",
      "Epoch: 0 batch #: 201  of 300 sample #: 199 reconstruction error: 0.090247\n",
      "Epoch: 0 batch #: 202  of 300 sample #: 199 reconstruction error: 0.028688\n",
      "Epoch: 0 batch #: 203  of 300 sample #: 199 reconstruction error: 0.074540\n",
      "Epoch: 0 batch #: 204  of 300 sample #: 199 reconstruction error: 0.043036\n",
      "Epoch: 0 batch #: 205  of 300 sample #: 199 reconstruction error: 0.022966\n",
      "Epoch: 0 batch #: 206  of 300 sample #: 199 reconstruction error: 0.069015\n",
      "Epoch: 0 batch #: 207  of 300 sample #: 199 reconstruction error: 0.077221\n",
      "Epoch: 0 batch #: 208  of 300 sample #: 199 reconstruction error: 0.059257\n",
      "Epoch: 0 batch #: 209  of 300 sample #: 199 reconstruction error: 0.027640\n",
      "Epoch: 0 batch #: 210  of 300 sample #: 199 reconstruction error: 0.108036\n",
      "Epoch: 0 batch #: 211  of 300 sample #: 199 reconstruction error: 0.091719\n",
      "Epoch: 0 batch #: 212  of 300 sample #: 199 reconstruction error: 0.079005\n",
      "Epoch: 0 batch #: 213  of 300 sample #: 199 reconstruction error: 0.079929\n",
      "Epoch: 0 batch #: 214  of 300 sample #: 199 reconstruction error: 0.107396\n",
      "Epoch: 0 batch #: 215  of 300 sample #: 199 reconstruction error: 0.034044\n",
      "Epoch: 0 batch #: 216  of 300 sample #: 199 reconstruction error: 0.089443\n",
      "Epoch: 0 batch #: 217  of 300 sample #: 199 reconstruction error: 0.072723\n",
      "Epoch: 0 batch #: 218  of 300 sample #: 199 reconstruction error: 0.078456\n",
      "Epoch: 0 batch #: 219  of 300 sample #: 199 reconstruction error: 0.075848\n",
      "Epoch: 0 batch #: 220  of 300 sample #: 199 reconstruction error: 0.053163\n",
      "Epoch: 0 batch #: 221  of 300 sample #: 199 reconstruction error: 0.090909\n",
      "Epoch: 0 batch #: 222  of 300 sample #: 199 reconstruction error: 0.092769\n",
      "Epoch: 0 batch #: 223  of 300 sample #: 199 reconstruction error: 0.067911\n",
      "Epoch: 0 batch #: 224  of 300 sample #: 199 reconstruction error: 0.062020\n",
      "Epoch: 0 batch #: 225  of 300 sample #: 199 reconstruction error: 0.080782\n",
      "Epoch: 0 batch #: 226  of 300 sample #: 199 reconstruction error: 0.109755\n",
      "Epoch: 0 batch #: 227  of 300 sample #: 199 reconstruction error: 0.079117\n",
      "Epoch: 0 batch #: 228  of 300 sample #: 199 reconstruction error: 0.053035\n",
      "Epoch: 0 batch #: 229  of 300 sample #: 199 reconstruction error: 0.083028\n",
      "Epoch: 0 batch #: 230  of 300 sample #: 199 reconstruction error: 0.031832\n",
      "Epoch: 0 batch #: 231  of 300 sample #: 199 reconstruction error: 0.037174\n",
      "Epoch: 0 batch #: 232  of 300 sample #: 199 reconstruction error: 0.057074\n",
      "Epoch: 0 batch #: 233  of 300 sample #: 199 reconstruction error: 0.084276\n",
      "Epoch: 0 batch #: 234  of 300 sample #: 199 reconstruction error: 0.059865\n",
      "Epoch: 0 batch #: 235  of 300 sample #: 199 reconstruction error: 0.072851\n",
      "Epoch: 0 batch #: 236  of 300 sample #: 199 reconstruction error: 0.078488\n",
      "Epoch: 0 batch #: 237  of 300 sample #: 199 reconstruction error: 0.066395\n",
      "Epoch: 0 batch #: 238  of 300 sample #: 199 reconstruction error: 0.105377\n",
      "Epoch: 0 batch #: 239  of 300 sample #: 199 reconstruction error: 0.026700\n",
      "Epoch: 0 batch #: 240  of 300 sample #: 199 reconstruction error: 0.111472\n",
      "Epoch: 0 batch #: 241  of 300 sample #: 199 reconstruction error: 0.094855\n",
      "Epoch: 0 batch #: 242  of 300 sample #: 199 reconstruction error: 0.086311\n",
      "Epoch: 0 batch #: 243  of 300 sample #: 199 reconstruction error: 0.061632\n",
      "Epoch: 0 batch #: 244  of 300 sample #: 199 reconstruction error: 0.097645\n",
      "Epoch: 0 batch #: 245  of 300 sample #: 199 reconstruction error: 0.068676\n",
      "Epoch: 0 batch #: 246  of 300 sample #: 199 reconstruction error: 0.100220\n",
      "Epoch: 0 batch #: 247  of 300 sample #: 199 reconstruction error: 0.049742\n",
      "Epoch: 0 batch #: 248  of 300 sample #: 199 reconstruction error: 0.053136\n",
      "Epoch: 0 batch #: 249  of 300 sample #: 199 reconstruction error: 0.044706\n",
      "Epoch: 0 batch #: 250  of 300 sample #: 199 reconstruction error: 0.089062\n",
      "Epoch: 0 batch #: 251  of 300 sample #: 199 reconstruction error: 0.052273\n",
      "Epoch: 0 batch #: 252  of 300 sample #: 199 reconstruction error: 0.062419\n",
      "Epoch: 0 batch #: 253  of 300 sample #: 199 reconstruction error: 0.067695\n",
      "Epoch: 0 batch #: 254  of 300 sample #: 199 reconstruction error: 0.021770\n",
      "Epoch: 0 batch #: 255  of 300 sample #: 199 reconstruction error: 0.056078\n",
      "Epoch: 0 batch #: 256  of 300 sample #: 199 reconstruction error: 0.081957\n",
      "Epoch: 0 batch #: 257  of 300 sample #: 199 reconstruction error: 0.082395\n",
      "Epoch: 0 batch #: 258  of 300 sample #: 199 reconstruction error: 0.093125\n",
      "Epoch: 0 batch #: 259  of 300 sample #: 199 reconstruction error: 0.078510\n",
      "Epoch: 0 batch #: 260  of 300 sample #: 199 reconstruction error: 0.096993\n",
      "Epoch: 0 batch #: 261  of 300 sample #: 199 reconstruction error: 0.035397\n",
      "Epoch: 0 batch #: 262  of 300 sample #: 199 reconstruction error: 0.057850\n",
      "Epoch: 0 batch #: 263  of 300 sample #: 199 reconstruction error: 0.089666\n",
      "Epoch: 0 batch #: 264  of 300 sample #: 199 reconstruction error: 0.075205\n",
      "Epoch: 0 batch #: 265  of 300 sample #: 199 reconstruction error: 0.067492\n",
      "Epoch: 0 batch #: 266  of 300 sample #: 199 reconstruction error: 0.037199\n",
      "Epoch: 0 batch #: 267  of 300 sample #: 199 reconstruction error: 0.057347\n",
      "Epoch: 0 batch #: 268  of 300 sample #: 199 reconstruction error: 0.024410\n",
      "Epoch: 0 batch #: 269  of 300 sample #: 199 reconstruction error: 0.073817\n",
      "Epoch: 0 batch #: 270  of 300 sample #: 199 reconstruction error: 0.083652\n",
      "Epoch: 0 batch #: 271  of 300 sample #: 199 reconstruction error: 0.059574\n",
      "Epoch: 0 batch #: 272  of 300 sample #: 199 reconstruction error: 0.064822\n",
      "Epoch: 0 batch #: 273  of 300 sample #: 199 reconstruction error: 0.043868\n",
      "Epoch: 0 batch #: 274  of 300 sample #: 199 reconstruction error: 0.056027\n",
      "Epoch: 0 batch #: 275  of 300 sample #: 199 reconstruction error: 0.096270\n",
      "Epoch: 0 batch #: 276  of 300 sample #: 199 reconstruction error: 0.069725\n",
      "Epoch: 0 batch #: 277  of 300 sample #: 199 reconstruction error: 0.080152\n",
      "Epoch: 0 batch #: 278  of 300 sample #: 199 reconstruction error: 0.051267\n",
      "Epoch: 0 batch #: 279  of 300 sample #: 199 reconstruction error: 0.049220\n",
      "Epoch: 0 batch #: 280  of 300 sample #: 199 reconstruction error: 0.067220\n",
      "Epoch: 0 batch #: 281  of 300 sample #: 199 reconstruction error: 0.084313\n",
      "Epoch: 0 batch #: 282  of 300 sample #: 199 reconstruction error: 0.101249\n",
      "Epoch: 0 batch #: 283  of 300 sample #: 199 reconstruction error: 0.047687\n",
      "Epoch: 0 batch #: 284  of 300 sample #: 199 reconstruction error: 0.061742\n",
      "Epoch: 0 batch #: 285  of 300 sample #: 199 reconstruction error: 0.058978\n",
      "Epoch: 0 batch #: 286  of 300 sample #: 199 reconstruction error: 0.108654\n",
      "Epoch: 0 batch #: 287  of 300 sample #: 199 reconstruction error: 0.072435\n",
      "Epoch: 0 batch #: 288  of 300 sample #: 199 reconstruction error: 0.016098\n",
      "Epoch: 0 batch #: 289  of 300 sample #: 199 reconstruction error: 0.081931\n",
      "Epoch: 0 batch #: 290  of 300 sample #: 199 reconstruction error: 0.087134\n",
      "Epoch: 0 batch #: 291  of 300 sample #: 199 reconstruction error: 0.108213\n",
      "Epoch: 0 batch #: 292  of 300 sample #: 199 reconstruction error: 0.057777\n",
      "Epoch: 0 batch #: 293  of 300 sample #: 199 reconstruction error: 0.056515\n",
      "Epoch: 0 batch #: 294  of 300 sample #: 199 reconstruction error: 0.081211\n",
      "Epoch: 0 batch #: 295  of 300 sample #: 199 reconstruction error: 0.072826\n",
      "Epoch: 0 batch #: 296  of 300 sample #: 199 reconstruction error: 0.025628\n",
      "Epoch: 0 batch #: 297  of 300 sample #: 199 reconstruction error: 0.111119\n",
      "Epoch: 0 batch #: 298  of 300 sample #: 199 reconstruction error: 0.053838\n",
      "Epoch: 0 batch #: 299  of 300 sample #: 199 reconstruction error: 0.060099\n",
      "Epoch: 0 batch #: 300  of 300 sample #: 199 reconstruction error: 0.078308\n"
     ]
    }
   ],
   "source": [
    "#Parameters\n",
    "alpha = 0.01\n",
    "epochs = 1\n",
    "batchsize = 200\n",
    "weights = []\n",
    "errors = []\n",
    "batch_number = 0\n",
    "K = 1\n",
    "\n",
    "#creating datasets\n",
    "train_ds = \\\n",
    "    tf.data.Dataset.from_tensor_slices((trX, trY)).batch(batchsize)\n",
    "\n",
    "for epoch in range(epochs):\n",
    "    for batch_x, batch_y in train_ds:\n",
    "        batch_number += 1\n",
    "        for i_sample in range(batchsize):           \n",
    "            for k in range(K):\n",
    "                v0_state = batch_x[i_sample]\n",
    "                h0_state = hidden_layer(v0_state, W, hb)\n",
    "                v1_state = reconstructed_output(h0_state, W, vb)\n",
    "                h1_state = hidden_layer(v1_state, W, hb)\n",
    "\n",
    "                delta_W = tf.matmul(tf.transpose([v0_state]), h0_state) - tf.matmul(tf.transpose([v1_state]), h1_state)\n",
    "                W = W + alpha * delta_W\n",
    "\n",
    "                vb = vb + alpha * tf.reduce_mean(v0_state - v1_state, 0)\n",
    "                hb = hb + alpha * tf.reduce_mean(h0_state - h1_state, 0) \n",
    "\n",
    "                v0_state = v1_state\n",
    "\n",
    "            if i_sample == batchsize-1:\n",
    "                err = error(batch_x[i_sample], v1_state)\n",
    "                errors.append(err)\n",
    "                weights.append(W)\n",
    "                print ( 'Epoch: %d' % epoch, \n",
    "                       \"batch #: %i \" % batch_number, \"of %i\" % int(60e3/batchsize), \n",
    "                       \"sample #: %i\" % i_sample,\n",
    "                       'reconstruction error: %f' % err)\n",
    "\n"
   ]
  },
  {
   "cell_type": "markdown",
   "metadata": {},
   "source": [
    "Let's take a look at the errors at the end of each batch:\n"
   ]
  },
  {
   "cell_type": "code",
   "execution_count": 20,
   "metadata": {
    "tags": []
   },
   "outputs": [
    {
     "data": {
      "image/png": "[encoded data removed]",
      "text/plain": [
       "<Figure size 432x288 with 1 Axes>"
      ]
     },
     "metadata": {
      "needs_background": "light"
     },
     "output_type": "display_data"
    }
   ],
   "source": [
    "plt.plot(errors)\n",
    "plt.xlabel(\"Batch Number\")\n",
    "plt.ylabel(\"Error\")\n",
    "plt.show()"
   ]
  },
  {
   "cell_type": "markdown",
   "metadata": {},
   "source": [
    "What is the final weight matrix $W$ after training?\n"
   ]
  },
  {
   "cell_type": "code",
   "execution_count": 21,
   "metadata": {},
   "outputs": [
    {
     "name": "stdout",
     "output_type": "stream",
     "text": [
      "[[-0.19000001 -0.3899999  -0.25000003 ... -0.43999985 -0.32999995\n",
      "  -0.23000003]\n",
      " [-0.27       -0.36999992 -0.29999998 ... -0.46999982 -0.3999999\n",
      "  -0.25000003]\n",
      " [-0.29       -0.31999996 -0.29999998 ... -0.43999985 -0.42999986\n",
      "  -0.22000003]\n",
      " ...\n",
      " [-0.25000003 -0.33999994 -0.26000002 ... -0.4799998  -0.3899999\n",
      "  -0.24000004]\n",
      " [-0.29999998 -0.34999993 -0.29       ... -0.41999987 -0.34999993\n",
      "  -0.20000002]\n",
      " [-0.25000003 -0.3799999  -0.24000004 ... -0.5099998  -0.34999993\n",
      "  -0.23000003]]\n"
     ]
    }
   ],
   "source": [
    "print(W.numpy()) # a weight matrix of shape (50,784)"
   ]
  },
  {
   "cell_type": "markdown",
   "metadata": {},
   "source": [
    "<a id=\"ref5\"></a>\n",
    "\n",
    "<h3>Learned features</h3> \n"
   ]
  },
  {
   "cell_type": "markdown",
   "metadata": {},
   "source": [
    "We can take each hidden unit and visualize the connections between that hidden unit and each element in the input vector. In our case, we have 50 hidden units. Lets visualize those.\n"
   ]
  },
  {
   "cell_type": "markdown",
   "metadata": {},
   "source": [
    "Let's plot the current weights: <b>tile_raster_images</b> helps in generating an easy to grasp image from a set of samples or weights. It transforms the <b>uw</b> (with one flattened image per row of size 784), into an array (of size $28\\times28$) in which images are reshaped and laid out like tiles on a floor.\n"
   ]
  },
  {
   "cell_type": "code",
   "execution_count": 22,
   "metadata": {},
   "outputs": [
    {
     "data": {
      "image/png": "[encoded data removed]",
      "text/plain": [
       "<Figure size 1296x1296 with 1 Axes>"
      ]
     },
     "metadata": {
      "needs_background": "light"
     },
     "output_type": "display_data"
    }
   ],
   "source": [
    "tile_raster_images(X=W.numpy().T, img_shape=(28, 28), tile_shape=(5, 10), tile_spacing=(1, 1))\n",
    "import matplotlib.pyplot as plt\n",
    "from PIL import Image\n",
    "%matplotlib inline\n",
    "image = Image.fromarray(tile_raster_images(X=W.numpy().T, img_shape=(28, 28) ,tile_shape=(5, 10), tile_spacing=(1, 1)))\n",
    "### Plot image\n",
    "plt.rcParams['figure.figsize'] = (18.0, 18.0)\n",
    "imgplot = plt.imshow(image)\n",
    "imgplot.set_cmap('gray')  "
   ]
  },
  {
   "cell_type": "markdown",
   "metadata": {},
   "source": [
    "Each tile in the above visualization corresponds to a vector of connections between a hidden unit and visible layer's units.\n"
   ]
  },
  {
   "cell_type": "markdown",
   "metadata": {},
   "source": [
    "Let's look at one of the learned weights corresponding to one of hidden units for example. In this particular square, the gray color represents weight = 0, and the whiter it is, the more positive the weights are (closer to 1). Conversely, the darker pixels are, the more negative the weights. The positive pixels will increase the probability of activation in hidden units (after multiplying by input/visible pixels), and negative pixels will decrease the probability of a unit hidden to be 1 (activated). So, why is this important?  So we can see that this specific square (hidden unit) can detect a feature (e.g. a \"/\" shape) and if it exists in the input.\n"
   ]
  },
  {
   "cell_type": "code",
   "execution_count": 23,
   "metadata": {},
   "outputs": [
    {
     "data": {
      "image/png": "[encoded data removed]",
      "text/plain": [
       "<Figure size 288x288 with 1 Axes>"
      ]
     },
     "metadata": {
      "needs_background": "light"
     },
     "output_type": "display_data"
    }
   ],
   "source": [
    "from PIL import Image\n",
    "image = Image.fromarray(tile_raster_images(X =W.numpy().T[10:11], img_shape=(28, 28),tile_shape=(1, 1), tile_spacing=(1, 1)))\n",
    "### Plot image\n",
    "plt.rcParams['figure.figsize'] = (4.0, 4.0)\n",
    "imgplot = plt.imshow(image)\n",
    "imgplot.set_cmap('gray')  "
   ]
  },
  {
   "cell_type": "markdown",
   "metadata": {},
   "source": [
    "Let's look at the reconstruction of an image now. Imagine that we have a destructed image of figure 3. Lets see if our trained network can fix it:\n",
    "\n",
    "First we plot the image:\n"
   ]
  },
  {
   "cell_type": "code",
   "execution_count": 24,
   "metadata": {},
   "outputs": [
    {
     "name": "stdout",
     "output_type": "stream",
     "text": [
      "--2021-08-05 09:47:18--  https://ibm.box.com/shared/static/vvm1b63uvuxq88vbw9znpwu5ol380mco.jpg\n",
      "Resolving ibm.box.com (ibm.box.com)... 107.152.26.197\n",
      "Connecting to ibm.box.com (ibm.box.com)|107.152.26.197|:443... connected.\n",
      "HTTP request sent, awaiting response... 301 Moved Permanently\n",
      "Location: /public/static/vvm1b63uvuxq88vbw9znpwu5ol380mco.jpg [following]\n",
      "--2021-08-05 09:47:18--  https://ibm.box.com/public/static/vvm1b63uvuxq88vbw9znpwu5ol380mco.jpg\n",
      "Reusing existing connection to ibm.box.com:443.\n",
      "HTTP request sent, awaiting response... 301 Moved Permanently\n",
      "Location: https://ibm.ent.box.com/public/static/vvm1b63uvuxq88vbw9znpwu5ol380mco.jpg [following]\n",
      "--2021-08-05 09:47:18--  https://ibm.ent.box.com/public/static/vvm1b63uvuxq88vbw9znpwu5ol380mco.jpg\n",
      "Resolving ibm.ent.box.com (ibm.ent.box.com)... 107.152.27.201\n",
      "Connecting to ibm.ent.box.com (ibm.ent.box.com)|107.152.27.201|:443... connected.\n",
      "HTTP request sent, awaiting response... 302 Found\n",
      "Location: https://public.boxcloud.com/d/1/b1!8j6bLoDvxKlZ6nF82tVsDjrgd5aNAzWINQtVLutoL-m5yzYNoznv2k4KjB0YPWw2YmJ6TjPKIifKzKJ1um0ACVokTLefCTLS1ffqMKBIk3spI7SSDEfIYvYswKy9xD5nlqWvZP-Hd3g_WDx9QvVlyjRX6lU757XLhgOaqB63jYMitBSu8q4pX6S0xB2A5YyhwEMtEXPVvenHWY72cgxfVT5ykWeygz0w5dk99oiTt5saC7MOyw6XKUMdriP3fAKdUcjXBSb0AVjnLa5i_35fU5pcG4uSyEqb_ITbrWVxuVglKIML5WRK8RtBFgjrXQyMswpXHxKIiPBWmlaMx84HBzbOeLQ33-d2r0Mo7Ny6BQjwYPsR6KXR5WNWpFg3GTPriNgcR1DrvCAxvk4SILBCDElrETduNfLtnaIXkDJ6CZXYdk-2QllqrsgLbEP2FLOEWtu5x_z6xTS954kpD-794W9qQaUqTdGTP1Yk8JgqrSZKI8qI91b4POumTsGv9PrBMruSPHEkM7z-BlcX66vYBVM-G3OexEg1epQfMbDnf8Ce1ZhExI748Gexw89kp7-S3sNLIY67076w1t5X6dZ5AxLdujZBSPaaRkM-6pOqDH6ZKGND67EOqchs1diZ69URD6ejD4gAxrQCTw4xZB0Rn-Bc6uRSddWzi1btvreqqRtpqfB9zCaYKQ2Jh8pOO7LCn7MEWJ3A8Q4qlTyQ93mBw9u_u8c8PRtV2Eq5CQzMhjnoPGtLmjEJgpbVvdj60UTNVKCoJNY2Nfkx3V3p3I0FnpTUz-3FfOkC0jfQmriZ_jdF-rRRy8yAv0Z4gv5E7zSe3uytPbhL8VVMQmLs5nv0AeS1phcq6yUCJJY2mj2Jz2aSZBZf36ODZsoLc0-0ShQqiBwrMq8JjDPOQtq0DbEH7NVzW7HTgYa9_De8BV3z0ew0boPN9AoqofKs-r1TetZOaqaEK9rQ4RrnghITs-YDlK6MT7_j5orT0xVB6Yiy5hfYLQQewGJMT-mOOiyzH5FmbZsv2CB4uwex_KutaT5dajDL5LoB2pl-07deSGTnslh04Z-875zVnCe-1IgzuLCmJS2fflwjKE3tOAnjUdmilSWFcCFQgvUG1OvLMj8abSM-PGT6fEKXm6dOV6BqUGTAa0pcto6p3CO-fRsobuPqIza9XBFr1AkmCwMRMIGx_PQuJTpo6Guc9ADkqAYVdkX7EhAPuQOPJtFyPx1jaN302qYuhItAvrW93jRhRHC-roywpbW0TR1cDz5Y4Nnesg-xQybXFRhu_3-OE1Im1xWBaF8c_pID8v8X9LCselUJqjSzzgiW8kJ5ICGyAZkqg8SAUYx71W4KplsJUcpq_MpqBpGBrsLQ0UQh4QSZ45ADaPeP0rb_P38bN-F5wIhzUMBoOPPeN4PkD6T4loh_G79W4fvf00By/download [following]\n",
      "--2021-08-05 09:47:19--  https://public.boxcloud.com/d/1/b1!8j6bLoDvxKlZ6nF82tVsDjrgd5aNAzWINQtVLutoL-m5yzYNoznv2k4KjB0YPWw2YmJ6TjPKIifKzKJ1um0ACVokTLefCTLS1ffqMKBIk3spI7SSDEfIYvYswKy9xD5nlqWvZP-Hd3g_WDx9QvVlyjRX6lU757XLhgOaqB63jYMitBSu8q4pX6S0xB2A5YyhwEMtEXPVvenHWY72cgxfVT5ykWeygz0w5dk99oiTt5saC7MOyw6XKUMdriP3fAKdUcjXBSb0AVjnLa5i_35fU5pcG4uSyEqb_ITbrWVxuVglKIML5WRK8RtBFgjrXQyMswpXHxKIiPBWmlaMx84HBzbOeLQ33-d2r0Mo7Ny6BQjwYPsR6KXR5WNWpFg3GTPriNgcR1DrvCAxvk4SILBCDElrETduNfLtnaIXkDJ6CZXYdk-2QllqrsgLbEP2FLOEWtu5x_z6xTS954kpD-794W9qQaUqTdGTP1Yk8JgqrSZKI8qI91b4POumTsGv9PrBMruSPHEkM7z-BlcX66vYBVM-G3OexEg1epQfMbDnf8Ce1ZhExI748Gexw89kp7-S3sNLIY67076w1t5X6dZ5AxLdujZBSPaaRkM-6pOqDH6ZKGND67EOqchs1diZ69URD6ejD4gAxrQCTw4xZB0Rn-Bc6uRSddWzi1btvreqqRtpqfB9zCaYKQ2Jh8pOO7LCn7MEWJ3A8Q4qlTyQ93mBw9u_u8c8PRtV2Eq5CQzMhjnoPGtLmjEJgpbVvdj60UTNVKCoJNY2Nfkx3V3p3I0FnpTUz-3FfOkC0jfQmriZ_jdF-rRRy8yAv0Z4gv5E7zSe3uytPbhL8VVMQmLs5nv0AeS1phcq6yUCJJY2mj2Jz2aSZBZf36ODZsoLc0-0ShQqiBwrMq8JjDPOQtq0DbEH7NVzW7HTgYa9_De8BV3z0ew0boPN9AoqofKs-r1TetZOaqaEK9rQ4RrnghITs-YDlK6MT7_j5orT0xVB6Yiy5hfYLQQewGJMT-mOOiyzH5FmbZsv2CB4uwex_KutaT5dajDL5LoB2pl-07deSGTnslh04Z-875zVnCe-1IgzuLCmJS2fflwjKE3tOAnjUdmilSWFcCFQgvUG1OvLMj8abSM-PGT6fEKXm6dOV6BqUGTAa0pcto6p3CO-fRsobuPqIza9XBFr1AkmCwMRMIGx_PQuJTpo6Guc9ADkqAYVdkX7EhAPuQOPJtFyPx1jaN302qYuhItAvrW93jRhRHC-roywpbW0TR1cDz5Y4Nnesg-xQybXFRhu_3-OE1Im1xWBaF8c_pID8v8X9LCselUJqjSzzgiW8kJ5ICGyAZkqg8SAUYx71W4KplsJUcpq_MpqBpGBrsLQ0UQh4QSZ45ADaPeP0rb_P38bN-F5wIhzUMBoOPPeN4PkD6T4loh_G79W4fvf00By/download\n",
      "Resolving public.boxcloud.com (public.boxcloud.com)... 107.152.27.200\n",
      "Connecting to public.boxcloud.com (public.boxcloud.com)|107.152.27.200|:443... connected.\n",
      "HTTP request sent, awaiting response... 200 OK\n",
      "Length: 24383 (24K) [image/jpeg]\n",
      "Saving to: ‘destructed3.jpg’\n",
      "\n",
      "destructed3.jpg     100%[===================>]  23.81K  --.-KB/s    in 0.08s   \n",
      "\n",
      "2021-08-05 09:47:20 (313 KB/s) - ‘destructed3.jpg’ saved [24383/24383]\n",
      "\n"
     ]
    },
    {
     "data": {
      "image/png": "[encoded data removed]",
      "text/plain": [
       "<PIL.JpegImagePlugin.JpegImageFile image mode=RGB size=181x181 at 0x7F53303EDAC8>"
      ]
     },
     "execution_count": 24,
     "metadata": {},
     "output_type": "execute_result"
    }
   ],
   "source": [
    "!wget -O destructed3.jpg  https://ibm.box.com/shared/static/vvm1b63uvuxq88vbw9znpwu5ol380mco.jpg\n",
    "img = Image.open('destructed3.jpg')\n",
    "img"
   ]
  },
  {
   "cell_type": "markdown",
   "metadata": {},
   "source": [
    "Now let's pass this image through the neural net:\n"
   ]
  },
  {
   "cell_type": "code",
   "execution_count": 25,
   "metadata": {},
   "outputs": [],
   "source": [
    "# convert the image to a 1d numpy array\n",
    "sample_case = np.array(img.convert('I').resize((28,28))).ravel().reshape((1, -1))/255.0\n",
    "\n",
    "sample_case = tf.cast(sample_case, dtype=tf.float32)"
   ]
  },
  {
   "cell_type": "markdown",
   "metadata": {},
   "source": [
    "Feed the sample case into the network and reconstruct the output:\n"
   ]
  },
  {
   "cell_type": "code",
   "execution_count": 26,
   "metadata": {},
   "outputs": [
    {
     "name": "stdout",
     "output_type": "stream",
     "text": [
      "Probability nodes in hidden layer: tf.Tensor(\n",
      "[[9.99839723e-01 2.61198608e-07 4.15798140e-15 8.92628074e-01\n",
      "  7.10897285e-10 6.75055511e-10 6.53926373e-01 9.99996543e-01\n",
      "  1.14300847e-03 1.00000000e+00 1.31115317e-03 1.00000000e+00\n",
      "  3.09833950e-07 9.99835968e-01 1.63873710e-06 1.84622794e-01\n",
      "  1.48461613e-05 4.36658484e-05 1.64111029e-07 9.98157918e-01\n",
      "  9.46989894e-06 9.97382104e-01 9.87116218e-01 1.00000000e+00\n",
      "  3.44201140e-10 1.12180242e-04 1.67250658e-09 1.24766563e-17\n",
      "  2.26243263e-15 1.00000000e+00 9.99996424e-01 5.21808267e-02\n",
      "  7.72710264e-01 1.67097662e-12 4.26157415e-02 7.72697195e-09\n",
      "  1.00000000e+00 1.40100718e-04 1.09233920e-08 1.57397985e-03\n",
      "  1.26512185e-15 1.00000000e+00 1.69998179e-06 2.20850471e-09\n",
      "  3.87036598e-05 6.46620989e-04 7.01020872e-06 3.70666930e-06\n",
      "  2.05673546e-01 1.11749374e-10]], shape=(1, 50), dtype=float32)\n",
      "activated nodes in hidden layer: tf.Tensor(\n",
      "[[1. 0. 0. 1. 0. 0. 1. 1. 0. 1. 0. 1. 0. 1. 0. 0. 0. 0. 0. 1. 0. 1. 1. 1.\n",
      "  0. 0. 0. 0. 0. 1. 1. 0. 1. 0. 0. 0. 1. 0. 0. 0. 0. 1. 0. 0. 0. 0. 0. 0.\n",
      "  0. 0.]], shape=(1, 50), dtype=float32)\n",
      "tf.Tensor(\n",
      "[[4.54574823e-04 4.68462706e-04 4.28110361e-04 8.53240490e-04\n",
      "  3.64869833e-04 6.13540411e-04 6.71356916e-04 4.54664230e-04\n",
      "  6.64621592e-04 6.07490540e-04 4.50074673e-04 5.38855791e-04\n",
      "  7.46041536e-04 3.20196152e-04 5.22553921e-04 5.18977642e-04\n",
      "  3.36825848e-04 6.32315874e-04 5.66422939e-04 6.07490540e-04\n",
      "  7.27295876e-04 4.03255224e-04 4.73201275e-04 5.60760498e-04\n",
      "  5.89549541e-04 7.41869211e-04 6.13600016e-04 5.22881746e-04\n",
      "  5.49703836e-04 5.55247068e-04 4.97460365e-04 3.99261713e-04\n",
      "  4.51236963e-04 3.82870436e-04 4.02927399e-04 3.47495079e-04\n",
      "  3.39359045e-04 4.14311886e-04 6.37382269e-04 5.30093908e-04\n",
      "  4.60267067e-04 8.10176134e-04 4.47839499e-04 5.47617674e-04\n",
      "  6.98387623e-04 6.10947609e-04 5.13046980e-04 3.86089087e-04\n",
      "  5.09351492e-04 4.41908836e-04 3.55035067e-04 3.89933586e-04\n",
      "  8.03649426e-04 4.07338142e-04 5.28216362e-04 5.60790300e-04\n",
      "  5.38855791e-04 5.22911549e-04 4.25040722e-04 4.62442636e-04\n",
      "  3.36468220e-04 2.98351049e-04 5.25355339e-04 5.70654869e-04\n",
      "  6.04391098e-04 2.25871801e-04 2.50637531e-04 1.06727748e-04\n",
      "  6.57442797e-05 8.76870909e-05 9.29997987e-05 1.10649155e-04\n",
      "  1.43438578e-04 1.00880170e-04 1.65998936e-04 4.60972878e-05\n",
      "  8.87558417e-05 1.40756369e-04 6.70939684e-04 4.77552414e-04\n",
      "  4.35471535e-04 4.86075878e-04 5.28186560e-04 4.32461500e-04\n",
      "  6.19769096e-04 3.68595123e-04 5.22792339e-04 5.79923391e-04\n",
      "  7.85410404e-04 7.41928816e-04 6.29752874e-04 6.07758760e-04\n",
      "  2.70903111e-04 1.52051449e-04 1.29133463e-04 1.22728132e-04\n",
      "  1.41322613e-04 2.46226788e-04 6.66826963e-04 1.08891726e-03\n",
      "  1.59692764e-03 3.07872891e-03 1.98829174e-03 1.42547488e-03\n",
      "  4.65452671e-04 3.91393900e-04 4.20153141e-04 3.59892845e-04\n",
      "  3.86655331e-04 4.41491604e-04 4.13745642e-04 4.73231077e-04\n",
      "  5.89519739e-04 6.41763210e-04 4.48107719e-04 4.53025103e-04\n",
      "  8.00043344e-04 2.19616294e-03 1.03315711e-03 1.27565861e-03\n",
      "  4.98175621e-04 6.45220280e-04 3.70800495e-04 3.63260508e-04\n",
      "  7.90655613e-04 3.79809737e-03 9.52193141e-03 6.71996176e-02\n",
      "  5.00491261e-02 1.05476916e-01 1.32220715e-01 3.93523276e-02\n",
      "  8.51306319e-03 3.81612778e-03 3.17850709e-03 1.44094229e-03\n",
      "  3.07312608e-03 8.14914703e-04 7.82519579e-04 7.06166029e-04\n",
      "  4.87565994e-04 5.38855791e-04 5.20646572e-04 9.09924507e-04\n",
      "  1.34158134e-03 1.02898479e-03 6.88552856e-03 4.74360585e-03\n",
      "  2.71096826e-03 3.37818265e-03 8.03479552e-03 8.31717253e-03\n",
      "  3.10403109e-02 2.71074712e-01 7.36673772e-01 8.82299542e-01\n",
      "  8.29138637e-01 8.85066152e-01 5.51685631e-01 4.86389607e-01\n",
      "  1.68590367e-01 4.12742496e-02 1.18058026e-02 1.23699605e-02\n",
      "  4.65154648e-03 1.83862448e-03 1.30009651e-03 5.60969114e-04\n",
      "  3.43620777e-04 5.20259142e-04 4.36693430e-04 1.59895420e-03\n",
      "  4.12771106e-03 3.07586789e-03 5.39308786e-03 5.21507859e-03\n",
      "  4.21074033e-03 9.41908360e-03 5.75602055e-02 3.92343163e-01\n",
      "  7.22925842e-01 9.26594257e-01 9.61992681e-01 9.75981355e-01\n",
      "  9.55704391e-01 9.36335444e-01 9.00799453e-01 8.45077693e-01\n",
      "  5.04498422e-01 7.59578645e-02 4.67176139e-02 1.23150945e-02\n",
      "  3.27435136e-03 2.72884965e-03 1.42303109e-03 5.56051731e-04\n",
      "  4.80234623e-04 6.12288713e-04 1.03101134e-03 2.16829777e-03\n",
      "  4.10437584e-03 6.64418936e-03 5.64184785e-03 2.54404545e-03\n",
      "  7.12281466e-03 1.56198412e-01 6.70119047e-01 9.30529356e-01\n",
      "  9.54412937e-01 9.65249062e-01 9.38658834e-01 9.32169914e-01\n",
      "  8.77322793e-01 8.03631544e-01 6.27400100e-01 8.19012403e-01\n",
      "  6.79575861e-01 3.03490996e-01 6.43115640e-02 1.23652816e-02\n",
      "  7.13065267e-03 2.61643529e-03 1.27968192e-03 6.12646341e-04\n",
      "  6.33835793e-04 6.06745481e-04 1.01143122e-03 1.40187144e-03\n",
      "  3.51724029e-03 2.55370140e-03 4.20716405e-03 8.46430659e-03\n",
      "  1.15993172e-01 6.80519521e-01 8.51720095e-01 9.42163348e-01\n",
      "  9.15228844e-01 7.31878579e-01 5.76794386e-01 3.77237171e-01\n",
      "  2.74454772e-01 2.28822738e-01 4.29943204e-01 7.41734326e-01\n",
      "  6.73747063e-01 6.01922154e-01 1.15174830e-01 1.41694546e-02\n",
      "  3.74108553e-03 1.75702572e-03 1.05762482e-03 4.35322523e-04\n",
      "  4.95284796e-04 6.37769699e-04 6.80893660e-04 1.76629424e-03\n",
      "  1.55946612e-03 2.31128931e-03 6.93151355e-03 4.64415550e-02\n",
      "  2.01843828e-01 5.80607712e-01 8.42873693e-01 4.74753380e-01\n",
      "  1.64246947e-01 4.58510518e-02 4.31270599e-02 5.81739843e-02\n",
      "  8.42094421e-02 1.14212245e-01 3.89698923e-01 7.25519538e-01\n",
      "  7.80098379e-01 5.71620643e-01 1.44439548e-01 8.15144181e-03\n",
      "  2.96866894e-03 1.09526515e-03 6.61343336e-04 3.98308039e-04\n",
      "  4.55081463e-04 9.84817743e-04 1.38130784e-03 1.50960684e-03\n",
      "  2.72178650e-03 2.16937065e-03 8.00558925e-03 6.27836883e-02\n",
      "  3.02869976e-01 5.80579579e-01 4.71669614e-01 3.01327109e-02\n",
      "  4.45657969e-03 6.22248650e-03 1.03545189e-02 7.84358978e-02\n",
      "  1.48526847e-01 4.61574614e-01 5.83906293e-01 8.74671459e-01\n",
      "  8.09902310e-01 4.23425555e-01 6.37269318e-02 4.08169627e-03\n",
      "  1.50018930e-03 1.27962232e-03 7.97092915e-04 6.21259212e-04\n",
      "  6.20126724e-04 6.40511513e-04 1.00430846e-03 1.17561221e-03\n",
      "  2.56520510e-03 2.51930952e-03 9.20853019e-03 4.41597104e-02\n",
      "  1.21510237e-01 1.75832421e-01 3.00914943e-02 5.97441196e-03\n",
      "  6.39978051e-03 3.24705243e-02 1.12555563e-01 4.17001247e-01\n",
      "  6.53972030e-01 8.00966501e-01 7.84540832e-01 8.02092075e-01\n",
      "  4.84367400e-01 8.30710232e-02 1.84733868e-02 1.71700120e-03\n",
      "  1.33010745e-03 1.19554996e-03 8.58813524e-04 4.70787287e-04\n",
      "  5.14477491e-04 6.97791576e-04 6.41226768e-04 9.11563635e-04\n",
      "  1.52119994e-03 5.32871485e-03 1.01829171e-02 3.02873850e-02\n",
      "  5.87746799e-02 2.12762058e-02 6.21202588e-03 8.59132409e-03\n",
      "  7.86468089e-02 5.06263554e-01 8.81777644e-01 9.45132375e-01\n",
      "  9.41724658e-01 8.54745686e-01 7.85200655e-01 5.33119142e-01\n",
      "  2.08585531e-01 1.85873806e-02 1.79460645e-03 4.33146954e-04\n",
      "  8.36074352e-04 1.09004974e-03 7.33256340e-04 5.73754311e-04\n",
      "  4.83989716e-04 5.64813614e-04 1.19000673e-03 1.02049112e-03\n",
      "  2.08276510e-03 6.09982014e-03 1.78629458e-02 1.78281367e-02\n",
      "  1.73451900e-02 1.77644193e-02 5.13830781e-03 1.31691068e-01\n",
      "  6.68049693e-01 9.63003159e-01 9.82053399e-01 9.82091546e-01\n",
      "  9.65744495e-01 8.79408360e-01 6.45370603e-01 2.13370949e-01\n",
      "  2.44752467e-02 2.73749232e-03 5.30630350e-04 1.82867050e-04\n",
      "  1.01056695e-03 9.03248787e-04 7.36564398e-04 5.05238771e-04\n",
      "  4.86940145e-04 5.10692596e-04 1.00606680e-03 1.43420696e-03\n",
      "  2.53653526e-03 4.66668606e-03 4.69905138e-03 5.50371408e-03\n",
      "  4.09576297e-03 6.11114502e-03 6.91109896e-02 4.83285517e-01\n",
      "  9.35816169e-01 9.65433955e-01 9.79211986e-01 9.54519510e-01\n",
      "  9.65459108e-01 9.02170658e-01 5.42868972e-01 1.08409733e-01\n",
      "  8.37495923e-03 7.91996717e-04 2.84284353e-04 1.39176846e-04\n",
      "  4.16785479e-04 4.88638878e-04 8.71390104e-04 5.18739223e-04\n",
      "  5.77151775e-04 4.06861305e-04 9.63330269e-04 1.85313821e-03\n",
      "  4.30768728e-03 3.99246812e-03 7.67350197e-04 1.16029382e-03\n",
      "  1.43322349e-03 6.26417994e-03 3.79520953e-02 3.46992910e-01\n",
      "  7.62929261e-01 8.04364681e-01 6.40332043e-01 5.84693432e-01\n",
      "  7.15714097e-01 7.88553596e-01 4.37654525e-01 3.87813747e-02\n",
      "  2.65055895e-03 2.71171331e-04 1.31517649e-04 5.17330191e-05\n",
      "  1.24812126e-04 2.11000443e-04 6.97880983e-04 4.47303057e-04\n",
      "  5.00231981e-04 4.33444977e-04 1.32575631e-03 3.07473540e-03\n",
      "  4.41810489e-03 3.03015113e-03 2.38600373e-03 2.49043107e-03\n",
      "  3.99759412e-03 4.54288721e-03 2.22295523e-02 1.66198164e-01\n",
      "  2.37931043e-01 1.04310215e-01 7.00532198e-02 4.00225818e-02\n",
      "  3.19912851e-01 3.15759122e-01 4.40278202e-01 7.23224878e-02\n",
      "  3.27205658e-03 5.95211983e-04 1.89810991e-04 1.75923109e-04\n",
      "  1.72555447e-04 2.15619802e-04 5.14298677e-04 4.46528196e-04\n",
      "  4.92513180e-04 4.87536192e-04 1.80009007e-03 1.28476620e-02\n",
      "  1.38228536e-02 6.31001592e-03 6.34583831e-03 3.46750021e-03\n",
      "  4.21071053e-03 1.11638606e-02 2.56741643e-02 5.00111580e-02\n",
      "  6.03354871e-02 1.65508687e-02 8.35099816e-03 1.52687430e-02\n",
      "  3.76739204e-02 1.39421225e-01 1.85157090e-01 9.52379405e-02\n",
      "  9.90256667e-03 1.95053220e-03 5.35458326e-04 2.02029943e-04\n",
      "  2.74002552e-04 4.03076410e-04 4.31537628e-04 4.51505184e-04\n",
      "  4.43935394e-04 6.79135323e-04 3.51649523e-03 1.13505423e-02\n",
      "  3.44042778e-02 2.85027623e-02 2.25710273e-02 9.98553634e-03\n",
      "  7.20414519e-03 1.67133510e-02 6.41143620e-02 7.74469376e-02\n",
      "  3.00538242e-02 3.59797478e-03 8.59773159e-03 1.70027316e-02\n",
      "  5.46634793e-02 2.11590767e-01 4.08101499e-01 2.81207323e-01\n",
      "  2.82677412e-02 3.35490704e-03 9.50366259e-04 3.46183777e-04\n",
      "  4.73469496e-04 3.95298004e-04 6.74277544e-04 4.49359417e-04\n",
      "  4.48763371e-04 6.57081604e-04 3.02836299e-03 3.22349370e-02\n",
      "  7.92026222e-02 1.01975709e-01 5.53162098e-02 4.68674898e-02\n",
      "  2.27258503e-02 9.92718935e-02 7.28966594e-02 7.41695762e-02\n",
      "  1.37784779e-02 6.59435987e-03 4.75710630e-03 1.09566748e-02\n",
      "  1.47665530e-01 4.42291200e-01 6.65189326e-01 3.80782485e-01\n",
      "  2.68298984e-02 4.52774763e-03 1.35642290e-03 5.91725111e-04\n",
      "  8.73804092e-04 9.15050507e-04 7.60346651e-04 5.91754913e-04\n",
      "  4.54664230e-04 7.25001097e-04 8.96137953e-03 1.24337792e-01\n",
      "  2.27885216e-01 1.76488101e-01 1.95281088e-01 1.17026746e-01\n",
      "  1.60081536e-01 2.26278603e-01 1.29606426e-01 5.58315516e-02\n",
      "  9.20096040e-03 7.54570961e-03 1.44228637e-02 5.24117649e-02\n",
      "  2.74304062e-01 5.93162537e-01 7.19958723e-01 2.65213966e-01\n",
      "  2.20026076e-02 3.50823998e-03 2.21163034e-03 2.11268663e-03\n",
      "  1.52486563e-03 1.59513950e-03 8.52376223e-04 5.89340925e-04\n",
      "  4.33057547e-04 4.76568937e-04 4.77236509e-03 1.81285113e-01\n",
      "  3.37712169e-01 5.32019794e-01 4.85142261e-01 3.36933196e-01\n",
      "  4.42172825e-01 1.37341112e-01 1.93429708e-01 4.75373864e-02\n",
      "  3.98109555e-02 6.82142675e-02 1.76701188e-01 3.80059600e-01\n",
      "  6.56349361e-01 7.45296001e-01 4.71893609e-01 7.85420835e-02\n",
      "  6.60094619e-03 2.89463997e-03 2.84913182e-03 4.31662798e-03\n",
      "  4.41381335e-03 2.68608332e-03 6.96361065e-04 5.14507294e-04\n",
      "  4.68939543e-04 4.30345535e-04 4.31445241e-03 7.48596787e-02\n",
      "  2.16189027e-01 3.88605535e-01 6.24549747e-01 8.41377854e-01\n",
      "  6.31085515e-01 6.85181737e-01 5.92288256e-01 6.10783637e-01\n",
      "  3.98248315e-01 5.89274764e-01 8.85776162e-01 8.25087488e-01\n",
      "  7.79298425e-01 3.16817164e-01 1.15970880e-01 2.60002911e-02\n",
      "  7.46101141e-03 3.17341089e-03 4.08750772e-03 6.19515777e-03\n",
      "  3.41555476e-03 3.14256549e-03 4.21673059e-04 5.86837530e-04\n",
      "  5.72204590e-04 5.95450401e-04 1.16682053e-03 1.78025365e-02\n",
      "  1.47103041e-01 4.33829367e-01 7.65918314e-01 7.85998046e-01\n",
      "  8.83045435e-01 9.06484246e-01 9.50441658e-01 9.39592063e-01\n",
      "  9.37431991e-01 9.14126039e-01 9.55996990e-01 7.94152856e-01\n",
      "  2.51214385e-01 4.02690470e-02 3.15786302e-02 2.42806375e-02\n",
      "  1.22917295e-02 6.00126386e-03 4.55364585e-03 3.89710069e-03\n",
      "  3.02273035e-03 1.18640065e-03 7.15255737e-04 5.66452742e-04\n",
      "  5.60760498e-04 4.77910042e-04 5.30987978e-04 4.24498320e-03\n",
      "  4.60621119e-02 2.75322616e-01 4.73336726e-01 4.59147364e-01\n",
      "  6.68853581e-01 7.51308620e-01 7.46824682e-01 7.14964390e-01\n",
      "  7.90309668e-01 7.40473986e-01 6.46823823e-01 2.44043916e-01\n",
      "  4.83068228e-02 1.70089006e-02 1.41936243e-02 1.16217732e-02\n",
      "  1.10338628e-02 3.64392996e-03 1.47441030e-03 1.80622935e-03\n",
      "  7.47799873e-04 4.55707312e-04 3.58223915e-04 4.77910042e-04\n",
      "  5.44250011e-04 5.22881746e-04 4.84257936e-04 5.29676676e-04\n",
      "  2.62099504e-03 6.63259625e-03 1.92456245e-02 4.17665243e-02\n",
      "  5.51425219e-02 5.30680418e-02 2.07715631e-02 2.30818093e-02\n",
      "  4.61110473e-02 3.48382592e-02 2.83125937e-02 2.03864574e-02\n",
      "  9.37402248e-03 4.10506129e-03 6.02579117e-03 8.04966688e-03\n",
      "  6.11719489e-03 1.38762593e-03 1.48481131e-03 9.82552767e-04\n",
      "  5.26905060e-04 7.34865665e-04 4.10079956e-04 3.91304493e-04\n",
      "  4.11391258e-04 3.87430191e-04 3.43680382e-04 3.28958035e-04\n",
      "  5.61237335e-04 1.64434314e-03 2.80818343e-03 1.77410245e-03\n",
      "  1.34885311e-03 1.65998936e-03 2.67121196e-03 1.79710984e-03\n",
      "  1.66133046e-03 9.04589891e-04 1.29342079e-03 1.66556239e-03\n",
      "  2.37268209e-03 1.10748410e-03 1.53669715e-03 1.58655643e-03\n",
      "  2.18012929e-03 7.42316246e-04 3.98755074e-04 5.51730394e-04\n",
      "  6.23553991e-04 4.47362661e-04 6.51478767e-04 7.41869211e-04\n",
      "  4.07338142e-04 4.36842442e-04 5.12599945e-04 4.32461500e-04\n",
      "  4.53084707e-04 5.87970018e-04 8.20606947e-04 7.83234835e-04\n",
      "  1.17808580e-03 1.39605999e-03 1.24484301e-03 1.33088231e-03\n",
      "  9.61542130e-04 1.30158663e-03 7.76827335e-04 8.29637051e-04\n",
      "  1.08620524e-03 9.12398100e-04 5.98996878e-04 4.41908836e-04\n",
      "  5.40196896e-04 3.96519899e-04 5.60760498e-04 4.77373600e-04\n",
      "  4.36842442e-04 5.02467155e-04 3.79770994e-04 2.47061253e-04]], shape=(1, 784), dtype=float32)\n"
     ]
    }
   ],
   "source": [
    "hh0_p = tf.nn.sigmoid(tf.matmul(sample_case, W) + hb)\n",
    "hh0_s = tf.round(hh0_p)\n",
    "\n",
    "print(\"Probability nodes in hidden layer:\" ,hh0_p)\n",
    "print(\"activated nodes in hidden layer:\" ,hh0_s)\n",
    "\n",
    "# reconstruct\n",
    "vv1_p = tf.nn.sigmoid(tf.matmul(hh0_s, tf.transpose(W)) + vb)\n",
    "\n",
    "print(vv1_p)\n",
    "#rec_prob = sess.run(vv1_p, feed_dict={ hh0_s: hh0_s_val, W: prv_w, vb: prv_vb})"
   ]
  },
  {
   "cell_type": "markdown",
   "metadata": {},
   "source": [
    "Here we plot the reconstructed image:\n"
   ]
  },
  {
   "cell_type": "code",
   "execution_count": 27,
   "metadata": {},
   "outputs": [
    {
     "data": {
      "image/png": "[encoded data removed]",
      "text/plain": [
       "<Figure size 288x288 with 1 Axes>"
      ]
     },
     "metadata": {
      "needs_background": "light"
     },
     "output_type": "display_data"
    }
   ],
   "source": [
    "img = Image.fromarray(tile_raster_images(X=vv1_p.numpy(), img_shape=(28, 28),tile_shape=(1, 1), tile_spacing=(1, 1)))\n",
    "plt.rcParams['figure.figsize'] = (4.0, 4.0)\n",
    "imgplot = plt.imshow(img)\n",
    "imgplot.set_cmap('gray') "
   ]
  },
  {
   "cell_type": "markdown",
   "metadata": {},
   "source": [
    "<hr>\n",
    "\n",
    "## Want to learn more?\n",
    "\n",
    "Also, you can use **Watson Studio** to run these notebooks faster with bigger datasets.**Watson Studio** is IBM’s leading cloud solution for data scientists, built by data scientists. With Jupyter notebooks, RStudio, Apache Spark and popular libraries pre-packaged in the cloud, **Watson Studio** enables data scientists to collaborate on their projects without having to install anything. Join the fast-growing community of **Watson Studio** users today with a free account at [Watson Studio](https://cocl.us/ML0120EN_DSX).This is the end of this lesson. Thank you for reading this notebook, and good luck on your studies.\n"
   ]
  },
  {
   "cell_type": "markdown",
   "metadata": {},
   "source": [
    "### Thanks for completing this lesson!\n",
    "\n",
    "Notebook created by: <a href = \"https://ca.linkedin.com/in/saeedaghabozorgi?utm_medium=Exinfluencer&utm_source=Exinfluencer&utm_content=000026UJ&utm_term=10006555&utm_id=NA-SkillsNetwork-Channel-SkillsNetworkCoursesIBMDeveloperSkillsNetworkDL0120ENSkillsNetwork20629446-2021-01-01\">Saeed Aghabozorgi</a>\n",
    "\n",
    "Updated to TF 2.X by  <a href=\"https://ca.linkedin.com/in/nilmeier?utm_medium=Exinfluencer&utm_source=Exinfluencer&utm_content=000026UJ&utm_term=10006555&utm_id=NA-SkillsNetwork-Channel-SkillsNetworkCoursesIBMDeveloperSkillsNetworkDL0120ENSkillsNetwork20629446-2021-01-01\"> Jerome Nilmeier</a><br />\n"
   ]
  },
  {
   "cell_type": "markdown",
   "metadata": {},
   "source": [
    "### References:\n",
    "\n",
    "[https://en.wikipedia.org/wiki/Restricted_Boltzmann_machine](https://en.wikipedia.org/wiki/Restricted_Boltzmann_machine?utm_medium=Exinfluencer&utm_source=Exinfluencer&utm_content=000026UJ&utm_term=10006555&utm_id=NA-SkillsNetwork-Channel-SkillsNetworkCoursesIBMDeveloperSkillsNetworkDL0120ENSkillsNetwork20629446-2021-01-01)\\\n",
    "[http://deeplearning.net/tutorial/rbm.html](http://deeplearning.net/tutorial/rbm.html?utm_medium=Exinfluencer&utm_source=Exinfluencer&utm_content=000026UJ&utm_term=10006555&utm_id=NA-SkillsNetwork-Channel-SkillsNetworkCoursesIBMDeveloperSkillsNetworkDL0120ENSkillsNetwork20629446-2021-01-01)\\\n",
    "[http://www.cs.utoronto.ca/\\~hinton/absps/netflixICML.pdf](http://www.cs.utoronto.ca/\\~hinton/absps/netflixICML.pdf?utm_medium=Exinfluencer&utm_source=Exinfluencer&utm_content=000026UJ&utm_term=10006555&utm_id=NA-SkillsNetwork-Channel-SkillsNetworkCoursesIBMDeveloperSkillsNetworkDL0120ENSkillsNetwork20629446-2021-01-01)<br>\n",
    "<http://imonad.com/rbm/restricted-boltzmann-machine/>\n"
   ]
  },
  {
   "cell_type": "markdown",
   "metadata": {},
   "source": [
    "<hr>\n",
    "\n",
    "Copyright © 2018 [Cognitive Class](https://cocl.us/DX0108EN_CC). This notebook and its source code are released under the terms of the [MIT License](https://bigdatauniversity.com/mit-license/?utm_medium=Exinfluencer&utm_source=Exinfluencer&utm_content=000026UJ&utm_term=10006555&utm_id=NA-SkillsNetwork-Channel-SkillsNetworkCoursesIBMDeveloperSkillsNetworkDL0120ENSkillsNetwork20629446-2021-01-01).\n"
   ]
  }
 ],
 "metadata": {
  "kernelspec": {
   "display_name": "Python",
   "language": "python",
   "name": "conda-env-python-py"
  },
  "language_info": {
   "codemirror_mode": {
    "name": "ipython",
    "version": 3
   },
   "file_extension": ".py",
   "mimetype": "text/x-python",
   "name": "python",
   "nbconvert_exporter": "python",
   "pygments_lexer": "ipython3",
   "version": "3.6.13"
  },
  "widgets": {
   "state": {},
   "version": "1.1.2"
  }
 },
 "nbformat": 4,
 "nbformat_minor": 4
}
